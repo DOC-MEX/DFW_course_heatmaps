{
 "cells": [
  {
   "cell_type": "markdown",
   "id": "e2c480d9",
   "metadata": {
    "slideshow": {
     "slide_type": "slide"
    }
   },
   "source": [
    "# Field trials data in Grassroots\n",
    "\n",
    "### [https://grassroots.tools/fieldtrial](https://grassroots.tools/fieldtrial)\n",
    "\n",
    "<div>\n",
    "<a href=\"https://grassroots.tools/fieldtrial\"> \n",
    "<img src=\"./images/field_trial_web.png\" width=\"830\" class=\"center\"/>\n",
    "    </a>\n",
    "</div>\n",
    "\n",
    "\n",
    "\n"
   ]
  },
  {
   "cell_type": "markdown",
   "id": "293d4ee6",
   "metadata": {
    "slideshow": {
     "slide_type": "slide"
    }
   },
   "source": [
    "# Field trials data in Grassroots\n",
    "\n",
    "Each study has a unique ID in the system (e.g., __603e3e9502700f7faf25dfb4__)\n",
    "\n",
    "<div><a href=\"https://grassroots.tools/fieldtrial/plots/603e3e9502700f7faf25dfb4\"><img src=\"./images/study_ID.png\" width=\"890\" class=\"center\"/></a></div> \n",
    "\n",
    "\n",
    "[https://grassroots.tools/fieldtrial/study/603e3e9502700f7faf25dfb4](https://grassroots.tools/fieldtrial/plots/603e3e9502700f7faf25dfb4) \n",
    "\n"
   ]
  },
  {
   "cell_type": "markdown",
   "id": "fe27b849",
   "metadata": {
    "slideshow": {
     "slide_type": "slide"
    }
   },
   "source": [
    "# Field trials data in Grassroots\n",
    "<br>\n",
    "<br>\n",
    "The studies that  submitted the observations measured on each plot of the experiment have a dedicated plot page.\n",
    "\n",
    "[https://grassroots.tools/fieldtrial/plot/03e3e9502700f7faf25dfb4](https://grassroots.tools/fieldtrial/plots/603e3e9502700f7faf25dfb4) \n"
   ]
  },
  {
   "cell_type": "markdown",
   "id": "5f97fa5c",
   "metadata": {
    "slideshow": {
     "slide_type": "fragment"
    }
   },
   "source": [
    "These are the studies that provide the best opportunity for  analysing or visualisations. "
   ]
  },
  {
   "cell_type": "markdown",
   "id": "c6e0aba4",
   "metadata": {
    "slideshow": {
     "slide_type": "slide"
    }
   },
   "source": [
    "# Field trials data in Grassroots\n",
    "<br>\n",
    "The data is displayed in a table organised by rows and columns of the individual plots in the experiment.\n",
    "\n",
    "<div><a href=\"https://grassroots.tools/fieldtrial/plots/603e3e9502700f7faf25dfb4\"><img src=\"./images/table_WGIN_2019.png\" width=\"850\" class=\"center\"/></a></div> \n"
   ]
  },
  {
   "cell_type": "markdown",
   "id": "22bc9f69",
   "metadata": {
    "slideshow": {
     "slide_type": "slide"
    }
   },
   "source": [
    "# Field trials data in Grassroots\n",
    "<br>\n",
    "The data is displayed in a table organised by rows and columns of the individual plots in the experiment.\n",
    "\n",
    "<div><a href=\"https://grassroots.tools/fieldtrial/plots/603e3e9502700f7faf25dfb4\"><img src=\"./images/check_table.png\" width=\"800\" class=\"center\"/></a></div> (row 6, column 3)"
   ]
  },
  {
   "cell_type": "markdown",
   "id": "f4688644",
   "metadata": {
    "slideshow": {
     "slide_type": "fragment"
    }
   },
   "source": [
    "### What if you want to manipulate the data of a study in your own way?"
   ]
  },
  {
   "cell_type": "markdown",
   "id": "3a5a9881",
   "metadata": {
    "slideshow": {
     "slide_type": "slide"
    }
   },
   "source": [
    "## How to get the plot data directly to your machine and play with it.\n",
    "\n",
    "The only thing you need to know is how to make requests to the grassroots server using the id of the study of interest.\n",
    "\n",
    "There are 3 main elements in a study file.\n",
    "\n",
    "1. General description of the study.\n",
    "2. Description of each phenotype observed in the study.\n",
    "3. Plot data organised in by rows and columns.\n",
    "\n",
    "All the data is handled in the JSON format.\n"
   ]
  },
  {
   "cell_type": "code",
   "execution_count": 1,
   "id": "fa74a892",
   "metadata": {
    "slideshow": {
     "slide_type": "skip"
    }
   },
   "outputs": [
    {
     "name": "stdout",
     "output_type": "stream",
     "text": [
      "Studyt name:  WGIN Diversity Rothamsted Harvest 2019\n",
      "Description:  Wheat variety, N, pesticide interaction trial\n"
     ]
    }
   ],
   "source": [
    "import json        # JSON library. JSON format stores data using pairs of keys and values\n",
    "import requests    # HTTP library\n",
    "#server_url = \"http://localhost:2000/grassroots/public_backend\"\n",
    "server_url = \"https://grassroots.tools/public_backend\"\n",
    "\n",
    "#Request to backend server to get a study using unique ID.\n",
    "def get_plot(id):\n",
    "    plot_request = {\"services\": [{\n",
    "                    \"so:name\": \"Search Field Trials\",\n",
    "                    \"start_service\": True,\n",
    "                    \"parameter_set\": { \"level\": \"advanced\",\n",
    "                    \"parameters\": [{\"param\": \"ST Id\",\"current_value\": id}, \n",
    "                                   {\"param\": \"Get all Plots for Study\",\"current_value\": True}, \n",
    "                                   {\"param\": \"ST Search Studies\", \"current_value\": True}]}\n",
    "                                  }]}\n",
    "    res = requests.post(server_url, data=json.dumps(plot_request))\n",
    "    return json.dumps(res.json())\n",
    "#----------------------------------------------------------------------------------\n",
    "json_study   = get_plot(\"603e3e9502700f7faf25dfb4\")    #  Rothamsted Harvest 2019\n",
    "#json_study   = get_plot(\"608be34702700f129912adbf\")   #   JIC\n",
    "single_study = json.loads(json_study) # \"Deserialising\" data (transform it into Python structures)\n",
    "\n",
    "##-- 1)Basic info about study\n",
    "print(\"Studyt name: \", single_study['results'][0]['results'][0]['data']['so:name'])    \n",
    "print(\"Description: \", single_study['results'][0]['results'][0]['data']['so:description'])    \n"
   ]
  },
  {
   "cell_type": "code",
   "execution_count": 2,
   "id": "8e4d72c5",
   "metadata": {
    "scrolled": true,
    "slideshow": {
     "slide_type": "slide"
    }
   },
   "outputs": [
    {
     "name": "stdout",
     "output_type": "stream",
     "text": [
      "1) HI_CalcGbSamp_%:  (Harvest index)   Units: % \n",
      "2) SpkPop_CalcGbSamp_m2:  (Spike population per unit area)   Units: m2 \n",
      "3) WtGrSp_CalcGbSamp_g:  (Weight of grain per spike)   Units: g \n",
      "4) TGrUa_CalcFh_m2:  (Thousand grains per unit area)   Units: /m2 \n",
      "5) GrNoSp_CalcGbSamp_No:  (Grains per spike)   Units: No \n",
      "6) TGW_CalcTGW_g:  (Thousand Grain Weight)   Units: g \n",
      "7) GrnYld100_Fh_tha:  (Grain yield @ 100% Dry Matter)   Units: t/ha \n",
      "8) GrnYld85_Fh_tha:  (Grain Yield @ 85% Dry Matter)   Units: t/ha \n",
      "9) StrwYld100_CalcGbSamp_tha:  (Straw yield @ 100% Dry Matter)   Units: t/ha \n",
      "10) StrwYld85_CalcGbSamp_tha:  (Straw Yield @ 85% Dry Matter)   Units: t/ha \n",
      "11) BioYld100_CalcGbSamp_tha:  (Biomass yield @ 100% Dry Matter)   Units: t/ha \n",
      "12) BmsNUpE_CalcFh_kgNOff/kg_Navail:  (Biomass Nitrogen Uptake efficiency)   Units: kgNUp/kg Navail \n",
      "13) BmsNUtE_CalcFh_kg_biomass/kg_Noff:  (Biomass nitrogen utilisation efficiency)   Units: kg biomass/kg Nup \n",
      "14) GrnNUpE_CalcFh_kgNOff/kg_Navail:  (Grain Nitrogen uptake efficiency)   Units: kgNUp/kg Navail \n",
      "15) GrnNUE_CalcFh_kg_grain/kg_Navail:  (Grain nitrogen use efficiency)   Units: kg grain/kg Navail \n",
      "16) GrnNUtE_CalcFh_kg_grain/kg_Noff:  (Grain nitrogen utilisation efficiency)   Units: kg grain/kg Nup \n",
      "17) GPD_CalcFh_%:  (Grain Protein Deviation)   Units: % \n",
      "18) Nsur_CalcFh_kgha:  (Surplus N)   Units: kg/ha \n",
      "19) GrnNCnc_Com_%:  (Grain Nitrogen concentration)   Units: % \n",
      "20) GrnAlCnc_Icp_ppm:  (Grain Aluminium concentration)   Units: ppm \n",
      "21) GrnCaCnc_Icp_ppm:  (Grain Calcium concentration)   Units: ppm \n",
      "22) GrnCdCnc_Icp_ppm:  (Grain Cadmium concentration)   Units: ppm \n",
      "23) GrnCoCnc_Icp_ppm:  (Grain Cobalt concentration)   Units: ppm \n",
      "24) GrnCrCnc_Icp_ppm:  (Grain Chromium concentration)   Units: ppm \n",
      "25) GrnCuCnc_Icp_ppm:  (Grain Copper concentration)   Units: ppm \n",
      "26) GrnFeCnc_Icp_ppm:  (Grain Iron concentration)   Units: ppm \n",
      "27) GrnKCnc_Icp_ppm:  (Grain Potassium concentration)   Units: ppm \n",
      "28) GrnMgCnc_Icp_ppm:  (Grain Magnesium concentration)   Units: ppm \n",
      "29) GrnMnCnc_Icp_ppm:  (Grain Manganese concentration)   Units: ppm \n",
      "30) GrnMoCnc_Icp_ppm:  (Grain Molybdenum concentration)   Units: ppm \n",
      "31) GrnNaCnc_Icp_ppm:  (Grain Sodium concentration)   Units: ppm \n",
      "32) GrnPCnc_Icp_ppm:  (Grain Phosphorus concentration)   Units: ppm \n",
      "33) GrnPbCnc_Icp_ppm:  (Grain Lead concentration)   Units: ppm \n",
      "34) GrnSCnc_Icp_ppm:  (Grain Sulphur concentration)   Units: ppm \n",
      "35) GrnTiCnc_Icp_ppm:  (Grain Titanium concentration)   Units: ppm \n",
      "36) GrnZnCnc_Icp_ppm:  (Grain Zinc concentration)   Units: ppm \n",
      "37) StrwNCnc_Com_%:  (Straw Nitrogen concentration)   Units: % \n",
      "38) StrwAlCnc_Icp_ppm:  (Straw Aluminium concentration)   Units: ppm \n",
      "39) StrwCaCnc_Icp_ppm:  (Straw Calcium concentration)   Units: ppm \n",
      "40) StrwCdCnc_Icp_ppm:  (Straw Cadmium concentration)   Units: ppm \n",
      "41) StrwCrCnc_Icp_ppm:  (Straw Chromium concentration)   Units: ppm \n",
      "42) StrwCuCnc_Icp_ppm:  (Straw Copper concentration)   Units: ppm \n",
      "43) StrwFeCnc_Icp_ppm:  (Straw Iron concentration)   Units: ppm \n",
      "44) StrwKCnc_Icp_ppm:  (Straw Potassium concentration)   Units: ppm \n",
      "45) StrwMgCnc_Icp_ppm:  (Straw Magnesium concentration)   Units: ppm \n",
      "46) StrwMnCnc_Icp_ppm:  (Straw Manganese concentration)   Units: ppm \n",
      "47) StrwMoCnc_Icp_ppm:  (Straw Molybdenum concentration)   Units: ppm \n",
      "48) StrwNaCnc_Icp_ppm:  (Straw Sodium concentration)   Units: ppm \n",
      "49) StrwNiCnc_Icp_ppm:  (Straw Nickel concentration)   Units: ppm \n",
      "50) StrwPCnc_Icp_ppm:  (Straw Phosphorus concentration)   Units: ppm \n",
      "51) StrwPbCnc_Icp_ppm:  (Straw Lead concentration)   Units: ppm \n",
      "52) StrwSCnc_Icp_ppm:  (Straw Sulphur concentration)   Units: ppm \n",
      "53) StrwSeCnc_Icp_ppm:  (Straw Selenium concentration)   Units: ppm \n",
      "54) StrwTiCnc_Icp_ppm:  (Straw Titanium concentration)   Units: ppm \n",
      "55) StrwZnCnc_Icp_ppm:  (Straw Zinc concentration)   Units: ppm \n",
      "56) BmsNCnc_CalcComb_%:  (Biomass Nitrogen concentration)   Units: % \n",
      "57) BmsAlCnc_CalcIcp_ppm:  (Biomass Aluminium concentration)   Units: ppm \n",
      "58) BmsCaCnc_CalcIcp_ppm:  (Biomass Calcium concentration)   Units: ppm \n",
      "59) BmsCdCnc_CalcIcp_ppm:  (Biomass Cadmium concentration)   Units: ppm \n",
      "60) BmsCrCnc_CalcIcp_ppm:  (Biomass Chromium concentration)   Units: ppm \n",
      "61) BmsCuCnc_CalcIcp_ppm:  (Biomass Copper concentration)   Units: ppm \n",
      "62) BmsFeCnc_CalcIcp_ppm:  (Biomass Iron concentration)   Units: ppm \n",
      "63) BmsKCnc_CalcIcp_ppm:  (Biomass Potassium concentration)   Units: ppm \n",
      "64) BmsMgCnc_CalcIcp_ppm:  (Biomass Magnesium concentration)   Units: ppm \n",
      "65) BmsMnCnc_CalcIcp_ppm:  (Biomass Manganese concentration)   Units: ppm \n",
      "66) BmsMoCnc_CalcIcp_ppm:  (Biomass Molybdenum concentration)   Units: ppm \n",
      "67) BmsNaCnc_CalcIcp_ppm:  (Biomass Sodium concentration)   Units: ppm \n",
      "68) BmsPCnc_CalcIcp_ppm:  (Biomass Phosphorus concentration)   Units: ppm \n",
      "69) BmsPbCnc_CalcIcp_ppm:  (Biomass Lead concentration)   Units: ppm \n",
      "70) BmsSCnc_CalcIcp_ppm:  (Biomass Sulphur concentration)   Units: ppm \n",
      "71) BmsTiCnc_CalcIcp_ppm:  (Biomass Titanium concentration)   Units: ppm \n",
      "72) BmsZnCnc_CalcIcp_ppm:  (Biomass Zinc concentration)   Units: ppm \n",
      "73) GrnNOff_CalcCombYld_kgha:  (Grain Nitrogen offtake)   Units: kg/ha \n",
      "74) GrnAlOff_CalcIcpYld_kgha:  (Grain Aluminium offtake)   Units: kg/ha \n",
      "75) GrnCaOff_CalcIcpYld_kgha:  (Grain Calcium offtake)   Units: kg/ha \n",
      "76) GrnCdOff_CalcIcpYld_kgha:  (Grain Cadmium offtake)   Units: kg/ha \n",
      "77) GrnCoOff_CalcIcpYld_kgha:  (Grain Cobalt offtake)   Units: kg/ha \n",
      "78) GrnCrOff_CalcIcpYld_kgha:  (Grain Chromium offtake)   Units: kg/ha \n",
      "79) GrnCuOff_CalcIcpYld_kgha:  (Grain Copper offtake)   Units: kg/ha \n",
      "80) GrnFeOff_CalcIcpYld_kgha:  (Grain Iron offtake)   Units: kg/ha \n",
      "81) GrnKOff_CalcIcpYld_kgha:  (Grain Potassium offtake)   Units: kg/ha \n",
      "82) GrnMgOff_CalcIcpYld_kgha:  (Grain Magnesium offtake)   Units: kg/ha \n",
      "83) GrnMnOff_CalcIcpYld_kgha:  (Grain Manganese offtake)   Units: kg/ha \n",
      "84) GrnMoOff_CalcIcpYld_kgha:  (Grain Molybdenum offtake)   Units: kg/ha \n",
      "85) GrnNaOff_CalcIcpYld_kgha:  (Grain Sodium offtake)   Units: kg/ha \n",
      "86) GrnPOff_CalcIcpYld_kgha:  (Grain Phosphorus offtake)   Units: kg/ha \n",
      "87) GrnPbOff_CalcIcpYld_kgha:  (Grain Lead offtake)   Units: kg/ha \n",
      "88) GrnSOff_CalcIcpYld_kgha:  (Grain Sulphur offtake)   Units: kg/ha \n",
      "89) GrnTiOff_CalcIcpYld_kgha:  (Grain Titanium offtake)   Units: kg/ha \n",
      "90) GrnZnOff_CalcIcpYld_kgha:  (Grain Zinc offtake)   Units: kg/ha \n",
      "91) StrwNOff_CalcCombYld_kgha:  (Straw Nitrogen offtake)   Units: kg/ha \n",
      "92) StrwAlOff_CalcIcpYld_kgha:  (Straw Aluminium offtake)   Units: kg/ha \n",
      "93) StrwCaOff_CalcIcpYld_kgha:  (Straw Calcium offtake)   Units: kg/ha \n",
      "94) StrwCdOff_CalcIcpYld_kgha:  (Straw Cadmium offtake)   Units: kg/ha \n",
      "95) StrwCrOff_CalcIcpYld_kgha:  (Straw Chromium offtake)   Units: kg/ha \n",
      "96) StrwCuOff_CalcIcpYld_kgha:  (Straw Copper offtake)   Units: kg/ha \n",
      "97) StrwFeOff_CalcIcpYld_kgha:  (Straw Iron offtake)   Units: kg/ha \n",
      "98) StrwKOff_CalcIcpYld_kgha:  (Straw Potassium offtake)   Units: kg/ha \n",
      "99) StrwMgOff_CalcIcpYld_kgha:  (Straw Magnesium offtake)   Units: kg/ha \n",
      "100) StrwMnOff_CalcIcpYld_kgha:  (Straw Manganese offtake)   Units: kg/ha \n",
      "101) StrwMoOff_CalcIcpYld_kgha:  (Straw Molybdenum offtake)   Units: kg/ha \n",
      "102) StrwNaOff_CalcIcpYld_kgha:  (Straw Sodium offtake)   Units: kg/ha \n",
      "103) StrwNiOff_CalcIcpYld_kgha:  (Straw Nickel offtake)   Units: kg/ha \n",
      "104) StrwPOff_CalcIcpYld_kgha:  (Straw Phosphorus offtake)   Units: kg/ha \n",
      "105) StrwPbOff_CalcIcpYld_kgha:  (Straw Lead offtake)   Units: kg/ha \n",
      "106) StrwSOff_CalcIcpYld_kgha:  (Straw Sulphur offtake)   Units: kg/ha \n",
      "107) StrwSeOff_CalcIcpYld_kgha:  (Straw Selenium offtake)   Units: kg/ha \n",
      "108) StrwTiOff_CalcIcpYld_kgha:  (Straw Titanium offtake)   Units: kg/ha \n",
      "109) StrwZnOff_CalcIcpYld_kgha:  (Straw Zinc offtake)   Units: kg/ha \n",
      "110) BmsNOff_CalcCombYld_kgha:  (Biomass Nitrogen offtake)   Units: kg/ha \n",
      "111) BmsAlOff_CalcIcpYld_kgha:  (Biomass Aluminium offtake)   Units: kg/ha \n",
      "112) BmsCaOff_CalcIcpYld_kgha:  (Biomass Calcium offtake)   Units: kg/ha \n",
      "113) BmsCdOff_CalcIcpYld_kgha:  (Biomass Cadmium offtake)   Units: kg/ha \n",
      "114) BmsCrOff_CalcIcpYld_kgha:  (Biomass Chromium offtake)   Units: kg/ha \n",
      "115) BmsCuOff_CalcIcpYld_kgha:  (Biomass Copper offtake)   Units: kg/ha \n",
      "116) BmsFeOff_CalcIcpYld_kgha:  (Biomass Iron offtake)   Units: kg/ha \n",
      "117) BmsKOff_CalcIcpYld_kgha:  (Biomass Potassium offtake)   Units: kg/ha \n",
      "118) BmsMgOff_CalcIcpYld_kgha:  (Biomass Magnesium offtake)   Units: kg/ha \n",
      "119) BmsMnOff_CalcIcpYld_kgha:  (Biomass Manganese offtake)   Units: kg/ha \n",
      "120) BmsMoOff_CalcIcpYld_kgha:  (Biomass Molybdenum offtake)   Units: kg/ha \n",
      "121) BmsNaOff_CalcIcpYld_kgha:  (Biomass Sodium offtake)   Units: kg/ha \n",
      "122) BmsPOff_CalcIcpYld_kgha:  (Biomass Phosphorus offtake)   Units: kg/ha \n",
      "123) BmsPbOff_CalcIcpYld_kgha:  (Biomass Lead offtake)   Units: kg/ha \n",
      "124) BmsSOff_CalcIcpYld_kgha:  (Biomass Sulphur offtake)   Units: kg/ha \n",
      "125) BmsTiOff_CalcIcpYld_kgha:  (Biomass Titanium offtake)   Units: kg/ha \n",
      "126) BmsZnOff_CalcIcpYld_kgha:  (Biomass Zinc offtake)   Units: kg/ha \n",
      "127) NHi_CalcCombYld_%:  (Nitrogen Harvest Index)   Units: % \n",
      "128) AlHi_CalcIcpYld_%:  (Aluminium Harvest Index)   Units: % \n",
      "129) CaHi_CalcIcpYld_%:  (Calcium Harvest Index)   Units: % \n",
      "130) CdHi_CalcIcpYld_%:  (Cadmium Harvest Index)   Units: % \n",
      "131) CrHi_CalcIcpYld_%:  (Chromium Harvest Index)   Units: % \n",
      "132) CuHi_CalcIcpYld_%:  (Copper Harvest Index)   Units: % \n",
      "133) FeHi_CalcIcpYld_%:  (Iron Harvest Index)   Units: % \n",
      "134) KHi_CalcIcpYld_%:  (Potassium Harvest Index)   Units: % \n",
      "135) MgHi_CalcIcpYld_%:  (Magnesium Harvest Index)   Units: % \n",
      "136) MnHi_CalcIcpYld_%:  (Manganese Harvest Index)   Units: % \n",
      "137) MoHi_CalcIcpYld_%:  (Molybdenum Harvest Index)   Units: % \n",
      "138) NaHi_CalcIcpYld_%:  (Sodium Harvest Index)   Units: % \n",
      "139) PHi_CalcIcpYld_%:  (Phosphorus Harvest Index)   Units: % \n",
      "140) PbHi_CalcIcpYld_%:  (Lead Harvest Index)   Units: % \n",
      "141) SHi_CalcIcpYld_%:  (Sulphur Harvest Index)   Units: % \n",
      "142) TiHi_CalcIcpYld_%:  (Titanium Harvest Index)   Units: % \n",
      "143) ZnHi_CalcIcpYld_%:  (Zinc Harvest Index)   Units: % \n",
      "144) SlMinN_SoilSam_kgha:  (Soil Mineral nitrogen)   Units: kg/ha \n",
      "145) FertN_FertApl_kgha:  (Fertiliser nitrogen)   Units: kg/ha \n",
      "146) AvailN_CalcNutAvail_kgha:  (Total available nitrogen)   Units: kg/ha \n",
      "147) GrnSeCnc_Icp_ppm:  (Grain Selenium concentration)   Units: ppm \n",
      "148) GrnSeOff_CalcIcpYld_kgha:  (Grain Selenium offtake)   Units: kg/ha \n",
      "149) GrnAsCnc_Icp_ppm:  (Grain Arsenic concentration)   Units: ppm \n",
      "150) GrnAsOff_CalcIcpYld_kgha:  (Grain Arsenic offtake)   Units: kg/ha \n",
      "151) StrwAsCnc_Icp_ppm:  (Straw Arsenic concentration)   Units: ppm \n",
      "152) BmsAsCnc_CalcIcp_ppm:  (Biomass Arsenic concentration)   Units: ppm \n",
      "153) StrwAsOff_CalcIcpYld_kgha:  (Straw Arsenic offtake)   Units: kg/ha \n",
      "154) BmsAsOff_CalcIcpYld_kgha:  (Biomass Arsenic offtake)   Units: kg/ha \n",
      "155) AsHi_CalcIcpYld_%:  (Arsenic Harvest Index)   Units: % \n",
      "156) StrwCoCnc_Icp_ppm:  (Straw Cobalt concentration)   Units: ppm \n",
      "157) StrwCoOff_CalcIcpYld_kgha:  (Straw Cobalt offtake)   Units: kg/ha \n",
      "158) BmsSeCnc_CalcIcp_ppm:  (Biomass Selenium concentration)   Units: ppm \n",
      "159) BmsSeOff_CalcIcpYld_kgha:  (Biomass Selenium offtake)   Units: kg/ha \n",
      "160) SeHi_CalcIcpYld_%:  (Selenium Harvest Index)   Units: % \n",
      "161) BmsCoCnc_CalcIcp_ppm:  (Biomass Cobalt concentration)   Units: ppm \n",
      "162) BmsCoOff_CalcIcpYld_kgha:  (Biomass Cobalt offtake)   Units: kg/ha \n",
      "163) CoHi_CalcIcpYld_%:  (Cobalt Harvest Index)   Units: % \n",
      "\n",
      "\n",
      "Study name: WGIN Diversity Rothamsted Harvest 2019\n",
      "Total number of phenotypes observed in current study: 163\n"
     ]
    }
   ],
   "source": [
    "import nbimporter\n",
    "from src.grassroots_requests import get_plot\n",
    "from src.grassroots_plots    import print_phenotype_traits\n",
    "json_study   = get_plot(\"603e3e9502700f7faf25dfb4\") # WGIN Diversity Rothamsted Harvest 2019 \n",
    "\n",
    "print_phenotype_traits(json_study)   #Variable name, trait and unit."
   ]
  },
  {
   "cell_type": "code",
   "execution_count": 3,
   "id": "15973140",
   "metadata": {
    "slideshow": {
     "slide_type": "slide"
    }
   },
   "outputs": [
    {
     "name": "stdout",
     "output_type": "stream",
     "text": [
      "Grain Nitrogen concentration\n",
      "[[  nan   nan 1.89  2.31  2.2   2.6   2.18  2.46  2.32  2.28  2.28  2.54\n",
      "  2.01  2.03  2.46  2.26  2.77  2.05  1.9   2.21  2.76  2.78    nan   nan\n",
      "    nan   nan 1.77  1.88  2.21  1.88  2.13  1.84  2.09  2.4   2.39  1.95\n",
      "  2.03  2.01  1.94  1.97  1.83  2.19  1.98  1.79  2.    1.82    nan   nan\n",
      "    nan   nan 1.62  1.42  1.41  1.36  1.35  1.51  1.62  1.53  1.34  1.28\n",
      "  1.33  1.32  1.46  1.38  1.58  1.48  1.46  1.31  1.56  1.33    nan   nan]\n",
      " [  nan   nan 2.15  1.82  1.77  1.9   1.98  2.34  2.35  2.36  1.79  2.17\n",
      "  2.    1.89  2.43  2.36  1.98  1.97  2.46  2.05  2.02  2.08    nan   nan\n",
      "    nan   nan 2.25  2.28  2.19  2.18  2.22  2.42  2.39  2.57  2.51  2.62\n",
      "  2.32  2.45  2.42  2.16  2.68  2.19  2.38  2.55  2.55  2.38    nan   nan\n",
      "    nan   nan 2.23  2.16  2.06  2.44  2.44  2.34  2.43  2.25  2.41  2.26\n",
      "  2.5   2.27  2.38  2.54  2.5   2.55  2.71  2.35  2.37  2.46    nan   nan]\n",
      " [  nan   nan 1.4   1.49  1.7   1.65  1.53  1.33  1.55  1.61  1.52  1.35\n",
      "  1.62  1.63  1.29  1.46  1.42  1.72  1.49  1.6   1.4   1.42    nan   nan\n",
      "    nan   nan 1.9   2.35  2.38  2.1   2.17  1.78  1.7   1.87  2.24  1.8\n",
      "  2.14  2.49  2.33  2.53  1.9   2.01  1.93  2.05  1.87  1.96    nan   nan\n",
      "    nan   nan 1.73  2.1   2.15  2.17  1.88  1.91  1.91  1.77  1.89  2.02\n",
      "  1.9   2.27  2.1   1.87  1.9   2.05  2.03  2.29  2.12  1.8     nan   nan]\n",
      " [  nan   nan 2.    2.22  2.06  2.17  2.    1.88  2.13  2.07  1.92  1.81\n",
      "  1.87  1.95  2.2   1.8   1.88  1.95  2.09  2.33  1.67  1.62    nan   nan\n",
      "    nan   nan 1.59  1.66  1.3   1.47  1.41  1.41  1.66  1.44  1.59  1.57\n",
      "  1.33  1.42  1.6   1.37  1.52  1.44  1.354 1.477 1.623 1.521   nan   nan\n",
      "    nan   nan 2.046 1.523 1.458 1.69  1.315 1.767 1.731 1.592 1.275 1.465\n",
      "  1.542 1.848 1.552 1.57  1.754 1.515 1.528 1.99  1.768 1.359   nan   nan]\n",
      " [  nan   nan 1.668 1.869 1.877 1.62  1.66  1.634 1.886 1.394 1.455 1.529\n",
      "  1.96  2.148 1.93  1.493 2.058 2.048 2.224 1.701 1.848 1.598   nan   nan\n",
      "    nan   nan 1.759 1.586 1.461 1.419 1.806 1.569 1.547 1.567 1.856 1.858\n",
      "  1.345 1.464 1.391 1.767 1.564 1.559 1.596 1.384 1.919 1.757   nan   nan\n",
      "    nan   nan 2.462 2.469 1.954 1.875 2.457 1.662 1.989 2.37  1.845 2.44\n",
      "  2.262 2.471 2.039 2.086 2.109 2.332 2.071 2.113 1.865 2.24    nan   nan]\n",
      " [  nan   nan 2.139 2.102 2.404 2.133 2.532 2.349 2.485 2.45  2.475 2.706\n",
      "  2.444 2.296 2.403 2.565 2.25  2.132 2.434 2.256 2.245 2.442   nan   nan\n",
      "    nan   nan 2.858 2.226 2.381 2.269 2.753 2.266 2.528 2.297 2.586 2.093\n",
      "  2.57  2.402 2.54  2.419 2.072 2.494 2.87    inf   inf   inf   nan   nan\n",
      "    nan   nan 2.409 2.315 2.241 2.426 2.489 2.568 2.196 2.494 2.225 2.436\n",
      "  2.535 1.968 2.061 2.763 2.321 2.987 2.889 2.113 2.489 2.046   nan   nan]]\n"
     ]
    }
   ],
   "source": [
    "import nbimporter\n",
    "from src.grassroots_requests import get_plot\n",
    "from src.grassroots_plots    import print_plot_data\n",
    "\n",
    "json_study   = get_plot(\"603e3e9502700f7faf25dfb4\") # WGIN Diversity Rothamsted Harvest 2019\n",
    "grain_N_concentration = \"GrnNCnc_Com_%\"\n",
    "\n",
    "print_plot_data(json_study, grain_N_concentration)"
   ]
  },
  {
   "cell_type": "code",
   "execution_count": 8,
   "id": "2d2ee0a1",
   "metadata": {
    "scrolled": true,
    "slideshow": {
     "slide_type": "slide"
    }
   },
   "outputs": [
    {
     "data": {
      "image/png": "[encoded data removed]",
      "text/plain": [
       "<Figure size 1550x570 with 2 Axes>"
      ]
     },
     "metadata": {},
     "output_type": "display_data"
    }
   ],
   "source": [
    "import nbimporter\n",
    "from src.grassroots_requests import get_plot\n",
    "from src.grassroots_plots    import seaborn_heatmap\n",
    "json_study   = get_plot(\"603e3e9502700f7faf25dfb4\") # WGIN Diversity Rothamsted Harvest 2019\n",
    "grain_N_concentration = \"GrnNCnc_Com_%\"             # Selected observation for visualisation\n",
    "colormap  =\"seagreen\"  #colormap =\"xkcd:copper\"\n",
    "#colormap =\"#a275ac\"\n",
    "seaborn_heatmap(json_study, colormap, grain_N_concentration) "
   ]
  },
  {
   "cell_type": "markdown",
   "id": "fa3d89d6",
   "metadata": {
    "slideshow": {
     "slide_type": "slide"
    }
   },
   "source": [
    "## Interactive heatmap using Plotly package\n",
    "\n",
    "### Reuse matrices and show extra information "
   ]
  },
  {
   "cell_type": "code",
   "execution_count": 11,
   "id": "3874a43d",
   "metadata": {
    "scrolled": true,
    "slideshow": {
     "slide_type": "slide"
    }
   },
   "outputs": [
    {
     "data": {
      "application/vnd.plotly.v1+json": {
       "config": {
        "plotlyServerURL": "https://plot.ly"
       },
       "data": [
        {
         "coloraxis": "coloraxis",
         "customdata": [
          [
           [
            "Discarded",
            "N/A"
           ],
           [
            "Discarded",
            "N/A"
           ],
           [
            "KWS Zyatt",
            "1.89"
           ],
           [
            "Robigus",
            "2.31"
           ],
           [
            "Mercia",
            "2.2"
           ],
           [
            "Solstice",
            "2.6"
           ],
           [
            "Crusoe",
            "2.18"
           ],
           [
            "Hereward",
            "2.46"
           ],
           [
            "Malacca",
            "2.32"
           ],
           [
            "Soissons",
            "2.28"
           ],
           [
            "Riband",
            "2.28"
           ],
           [
            "Cadenza",
            "2.54"
           ],
           [
            "Graham",
            "2.01"
           ],
           [
            "KWS Barrel",
            "2.03"
           ],
           [
            "Claire",
            "2.46"
           ],
           [
            "Xi19",
            "2.26"
           ],
           [
            "Avalon",
            "2.77"
           ],
           [
            "Siskin",
            "2.05"
           ],
           [
            "Istabraq",
            "1.9"
           ],
           [
            "Hylux",
            "2.21"
           ],
           [
            "Maris Widgeon",
            "2.76"
           ],
           [
            "Paragon",
            "2.78"
           ],
           [
            "Discarded",
            "N/A"
           ],
           [
            "Discarded",
            "N/A"
           ],
           [
            "Discarded",
            "N/A"
           ],
           [
            "Discarded",
            "N/A"
           ],
           [
            "Siskin",
            "1.77"
           ],
           [
            "Riband",
            "1.88"
           ],
           [
            "Paragon",
            "2.21"
           ],
           [
            "Xi19",
            "1.88"
           ],
           [
            "Avalon",
            "2.13"
           ],
           [
            "Hylux",
            "1.84"
           ],
           [
            "Graham",
            "2.09"
           ],
           [
            "Solstice",
            "2.4"
           ],
           [
            "Maris Widgeon",
            "2.39"
           ],
           [
            "Claire",
            "1.95"
           ],
           [
            "Hereward",
            "2.03"
           ],
           [
            "Cadenza",
            "2.01"
           ],
           [
            "Crusoe",
            "1.94"
           ],
           [
            "KWS Zyatt",
            "1.97"
           ],
           [
            "KWS Barrel",
            "1.83"
           ],
           [
            "Soissons",
            "2.19"
           ],
           [
            "Malacca",
            "1.98"
           ],
           [
            "Istabraq",
            "1.79"
           ],
           [
            "Mercia",
            "2"
           ],
           [
            "Robigus",
            "1.82"
           ],
           [
            "Discarded",
            "N/A"
           ],
           [
            "Discarded",
            "N/A"
           ],
           [
            "Discarded",
            "N/A"
           ],
           [
            "Discarded",
            "N/A"
           ],
           [
            "Maris Widgeon",
            "1.62"
           ],
           [
            "KWS Zyatt",
            "1.42"
           ],
           [
            "Solstice",
            "1.41"
           ],
           [
            "Robigus",
            "1.36"
           ],
           [
            "Graham",
            "1.35"
           ],
           [
            "Cadenza",
            "1.51"
           ],
           [
            "Avalon",
            "1.62"
           ],
           [
            "Paragon",
            "1.53"
           ],
           [
            "Siskin",
            "1.34"
           ],
           [
            "Istabraq",
            "1.28"
           ],
           [
            "KWS Barrel",
            "1.33"
           ],
           [
            "Hylux",
            "1.32"
           ],
           [
            "Malacca",
            "1.46"
           ],
           [
            "Riband",
            "1.38"
           ],
           [
            "Hereward",
            "1.58"
           ],
           [
            "Mercia",
            "1.48"
           ],
           [
            "Crusoe",
            "1.46"
           ],
           [
            "Claire",
            "1.31"
           ],
           [
            "Soissons",
            "1.56"
           ],
           [
            "Xi19",
            "1.33"
           ],
           [
            "Discarded",
            "N/A"
           ],
           [
            "Discarded",
            "N/A"
           ]
          ],
          [
           [
            "Discarded",
            "N/A"
           ],
           [
            "Discarded",
            "N/A"
           ],
           [
            "Claire",
            "2.15"
           ],
           [
            "Hylux",
            "1.82"
           ],
           [
            "Graham",
            "1.77"
           ],
           [
            "KWS Barrel",
            "1.9"
           ],
           [
            "Xi19",
            "1.98"
           ],
           [
            "Maris Widgeon",
            "2.34"
           ],
           [
            "Robigus",
            "2.35"
           ],
           [
            "Avalon",
            "2.36"
           ],
           [
            "Istabraq",
            "1.79"
           ],
           [
            "Soissons",
            "2.17"
           ],
           [
            "Riband",
            "2"
           ],
           [
            "Siskin",
            "1.89"
           ],
           [
            "Solstice",
            "2.43"
           ],
           [
            "Cadenza",
            "2.36"
           ],
           [
            "KWS Zyatt",
            "1.98"
           ],
           [
            "Crusoe",
            "1.97"
           ],
           [
            "Paragon",
            "2.46"
           ],
           [
            "Mercia",
            "2.05"
           ],
           [
            "Malacca",
            "2.02"
           ],
           [
            "Hereward",
            "2.08"
           ],
           [
            "Discarded",
            "N/A"
           ],
           [
            "Discarded",
            "N/A"
           ],
           [
            "Discarded",
            "N/A"
           ],
           [
            "Discarded",
            "N/A"
           ],
           [
            "Malacca",
            "2.25"
           ],
           [
            "Claire",
            "2.28"
           ],
           [
            "KWS Barrel",
            "2.19"
           ],
           [
            "Hylux",
            "2.18"
           ],
           [
            "Riband",
            "2.22"
           ],
           [
            "Soissons",
            "2.42"
           ],
           [
            "KWS Zyatt",
            "2.39"
           ],
           [
            "Hereward",
            "2.57"
           ],
           [
            "Crusoe",
            "2.51"
           ],
           [
            "Paragon",
            "2.62"
           ],
           [
            "Siskin",
            "2.32"
           ],
           [
            "Mercia",
            "2.45"
           ],
           [
            "Robigus",
            "2.42"
           ],
           [
            "Istabraq",
            "2.16"
           ],
           [
            "Maris Widgeon",
            "2.68"
           ],
           [
            "Graham",
            "2.19"
           ],
           [
            "Xi19",
            "2.38"
           ],
           [
            "Solstice",
            "2.55"
           ],
           [
            "Avalon",
            "2.55"
           ],
           [
            "Cadenza",
            "2.38"
           ],
           [
            "Discarded",
            "N/A"
           ],
           [
            "Discarded",
            "N/A"
           ],
           [
            "Discarded",
            "N/A"
           ],
           [
            "Discarded",
            "N/A"
           ],
           [
            "KWS Barrel",
            "2.23"
           ],
           [
            "Graham",
            "2.16"
           ],
           [
            "Istabraq",
            "2.06"
           ],
           [
            "Crusoe",
            "2.44"
           ],
           [
            "Soissons",
            "2.44"
           ],
           [
            "Robigus",
            "2.34"
           ],
           [
            "Mercia",
            "2.43"
           ],
           [
            "Claire",
            "2.25"
           ],
           [
            "Hereward",
            "2.41"
           ],
           [
            "KWS Zyatt",
            "2.26"
           ],
           [
            "Paragon",
            "2.5"
           ],
           [
            "Xi19",
            "2.27"
           ],
           [
            "Siskin",
            "2.38"
           ],
           [
            "Avalon",
            "2.54"
           ],
           [
            "Solstice",
            "2.5"
           ],
           [
            "Cadenza",
            "2.55"
           ],
           [
            "Maris Widgeon",
            "2.71"
           ],
           [
            "Riband",
            "2.35"
           ],
           [
            "Hylux",
            "2.37"
           ],
           [
            "Malacca",
            "2.46"
           ],
           [
            "Discarded",
            "N/A"
           ],
           [
            "Discarded",
            "N/A"
           ]
          ],
          [
           [
            "Discarded",
            "N/A"
           ],
           [
            "Discarded",
            "N/A"
           ],
           [
            "Riband",
            "1.4"
           ],
           [
            "Xi19",
            "1.49"
           ],
           [
            "Soissons",
            "1.7"
           ],
           [
            "Paragon",
            "1.65"
           ],
           [
            "Malacca",
            "1.53"
           ],
           [
            "KWS Barrel",
            "1.33"
           ],
           [
            "Crusoe",
            "1.55"
           ],
           [
            "Mercia",
            "1.61"
           ],
           [
            "KWS Zyatt",
            "1.52"
           ],
           [
            "Hylux",
            "1.35"
           ],
           [
            "Avalon",
            "1.62"
           ],
           [
            "Hereward",
            "1.63"
           ],
           [
            "Istabraq",
            "1.29"
           ],
           [
            "Robigus",
            "1.46"
           ],
           [
            "Graham",
            "1.42"
           ],
           [
            "Maris Widgeon",
            "1.72"
           ],
           [
            "Claire",
            "1.49"
           ],
           [
            "Cadenza",
            "1.6"
           ],
           [
            "Siskin",
            "1.4"
           ],
           [
            "Solstice",
            "1.42"
           ],
           [
            "Discarded",
            "N/A"
           ],
           [
            "Discarded",
            "N/A"
           ],
           [
            "Discarded",
            "N/A"
           ],
           [
            "Discarded",
            "N/A"
           ],
           [
            "Xi19",
            "1.9"
           ],
           [
            "Paragon",
            "2.35"
           ],
           [
            "Maris Widgeon",
            "2.38"
           ],
           [
            "Soissons",
            "2.1"
           ],
           [
            "Claire",
            "2.17"
           ],
           [
            "Graham",
            "1.78"
           ],
           [
            "Istabraq",
            "1.7"
           ],
           [
            "Siskin",
            "1.87"
           ],
           [
            "Robigus",
            "2.24"
           ],
           [
            "KWS Barrel",
            "1.8"
           ],
           [
            "Malacca",
            "2.14"
           ],
           [
            "Avalon",
            "2.49"
           ],
           [
            "Cadenza",
            "2.33"
           ],
           [
            "Solstice",
            "2.53"
           ],
           [
            "Crusoe",
            "1.9"
           ],
           [
            "KWS Zyatt",
            "2.01"
           ],
           [
            "Hylux",
            "1.93"
           ],
           [
            "Hereward",
            "2.05"
           ],
           [
            "Riband",
            "1.87"
           ],
           [
            "Mercia",
            "1.96"
           ],
           [
            "Discarded",
            "N/A"
           ],
           [
            "Discarded",
            "N/A"
           ],
           [
            "Discarded",
            "N/A"
           ],
           [
            "Discarded",
            "N/A"
           ],
           [
            "Istabraq",
            "1.73"
           ],
           [
            "Cadenza",
            "2.1"
           ],
           [
            "Avalon",
            "2.15"
           ],
           [
            "Hereward",
            "2.17"
           ],
           [
            "Robigus",
            "1.88"
           ],
           [
            "Siskin",
            "1.91"
           ],
           [
            "Xi19",
            "1.91"
           ],
           [
            "Graham",
            "1.77"
           ],
           [
            "Claire",
            "1.89"
           ],
           [
            "Mercia",
            "2.02"
           ],
           [
            "KWS Zyatt",
            "1.9"
           ],
           [
            "Maris Widgeon",
            "2.27"
           ],
           [
            "Paragon",
            "2.1"
           ],
           [
            "Hylux",
            "1.87"
           ],
           [
            "Riband",
            "1.9"
           ],
           [
            "Malacca",
            "2.05"
           ],
           [
            "Solstice",
            "2.03"
           ],
           [
            "Soissons",
            "2.29"
           ],
           [
            "Crusoe",
            "2.12"
           ],
           [
            "KWS Barrel",
            "1.8"
           ],
           [
            "Discarded",
            "N/A"
           ],
           [
            "Discarded",
            "N/A"
           ]
          ],
          [
           [
            "Discarded",
            "N/A"
           ],
           [
            "Discarded",
            "N/A"
           ],
           [
            "Cadenza",
            "2"
           ],
           [
            "Hereward",
            "2.22"
           ],
           [
            "Malacca",
            "2.06"
           ],
           [
            "Avalon",
            "2.17"
           ],
           [
            "Solstice",
            "2"
           ],
           [
            "Riband",
            "1.88"
           ],
           [
            "Paragon",
            "2.13"
           ],
           [
            "Crusoe",
            "2.07"
           ],
           [
            "Hylux",
            "1.92"
           ],
           [
            "Siskin",
            "1.81"
           ],
           [
            "Robigus",
            "1.87"
           ],
           [
            "KWS Zyatt",
            "1.95"
           ],
           [
            "Soissons",
            "2.2"
           ],
           [
            "KWS Barrel",
            "1.8"
           ],
           [
            "Xi19",
            "1.88"
           ],
           [
            "Claire",
            "1.95"
           ],
           [
            "Mercia",
            "2.09"
           ],
           [
            "Maris Widgeon",
            "2.33"
           ],
           [
            "Istabraq",
            "1.67"
           ],
           [
            "Graham",
            "1.62"
           ],
           [
            "Discarded",
            "N/A"
           ],
           [
            "Discarded",
            "N/A"
           ],
           [
            "Discarded",
            "N/A"
           ],
           [
            "Discarded",
            "N/A"
           ],
           [
            "Soissons",
            "1.59"
           ],
           [
            "Maris Widgeon",
            "1.66"
           ],
           [
            "Robigus",
            "1.3"
           ],
           [
            "KWS Zyatt",
            "1.47"
           ],
           [
            "KWS Barrel",
            "1.41"
           ],
           [
            "Istabraq",
            "1.41"
           ],
           [
            "Hereward",
            "1.66"
           ],
           [
            "Xi19",
            "1.44"
           ],
           [
            "Mercia",
            "1.59"
           ],
           [
            "Crusoe",
            "1.57"
           ],
           [
            "Hylux",
            "1.33"
           ],
           [
            "Claire",
            "1.42"
           ],
           [
            "Avalon",
            "1.6"
           ],
           [
            "Siskin",
            "1.37"
           ],
           [
            "Cadenza",
            "1.52"
           ],
           [
            "Solstice",
            "1.44"
           ],
           [
            "Graham",
            "1.354"
           ],
           [
            "Malacca",
            "1.477"
           ],
           [
            "Paragon",
            "1.623"
           ],
           [
            "Riband",
            "1.521"
           ],
           [
            "Discarded",
            "N/A"
           ],
           [
            "Discarded",
            "N/A"
           ],
           [
            "Discarded",
            "N/A"
           ],
           [
            "Discarded",
            "N/A"
           ],
           [
            "Avalon",
            "2.046"
           ],
           [
            "Malacca",
            "1.523"
           ],
           [
            "Hylux",
            "1.458"
           ],
           [
            "Claire",
            "1.69"
           ],
           [
            "Siskin",
            "1.315"
           ],
           [
            "Paragon",
            "1.767"
           ],
           [
            "Maris Widgeon",
            "1.731"
           ],
           [
            "Cadenza",
            "1.592"
           ],
           [
            "Graham",
            "1.275"
           ],
           [
            "Xi19",
            "1.465"
           ],
           [
            "Mercia",
            "1.542"
           ],
           [
            "Solstice",
            "1.848"
           ],
           [
            "KWS Zyatt",
            "1.552"
           ],
           [
            "Crusoe",
            "1.57"
           ],
           [
            "Soissons",
            "1.754"
           ],
           [
            "KWS Barrel",
            "1.515"
           ],
           [
            "Riband",
            "1.528"
           ],
           [
            "Robigus",
            "1.99"
           ],
           [
            "Hereward",
            "1.768"
           ],
           [
            "Istabraq",
            "1.359"
           ],
           [
            "Discarded",
            "N/A"
           ],
           [
            "Discarded",
            "N/A"
           ]
          ],
          [
           [
            "Discarded",
            "N/A"
           ],
           [
            "Discarded",
            "N/A"
           ],
           [
            "Hereward",
            "1.668"
           ],
           [
            "Avalon",
            "1.869"
           ],
           [
            "Claire",
            "1.877"
           ],
           [
            "Malacca",
            "1.62"
           ],
           [
            "Mercia",
            "1.66"
           ],
           [
            "Xi19",
            "1.634"
           ],
           [
            "Soissons",
            "1.886"
           ],
           [
            "Istabraq",
            "1.394"
           ],
           [
            "KWS Barrel",
            "1.455"
           ],
           [
            "Riband",
            "1.529"
           ],
           [
            "Solstice",
            "1.96"
           ],
           [
            "Robigus",
            "2.148"
           ],
           [
            "Maris Widgeon",
            "1.93"
           ],
           [
            "Graham",
            "1.493"
           ],
           [
            "Paragon",
            "2.058"
           ],
           [
            "Hylux",
            "2.048"
           ],
           [
            "Siskin",
            "2.224"
           ],
           [
            "KWS Zyatt",
            "1.701"
           ],
           [
            "Cadenza",
            "1.848"
           ],
           [
            "Crusoe",
            "1.598"
           ],
           [
            "Discarded",
            "N/A"
           ],
           [
            "Discarded",
            "N/A"
           ],
           [
            "Discarded",
            "N/A"
           ],
           [
            "Discarded",
            "N/A"
           ],
           [
            "Solstice",
            "1.759"
           ],
           [
            "Mercia",
            "1.586"
           ],
           [
            "Riband",
            "1.461"
           ],
           [
            "Siskin",
            "1.419"
           ],
           [
            "Cadenza",
            "1.806"
           ],
           [
            "Malacca",
            "1.569"
           ],
           [
            "Hylux",
            "1.547"
           ],
           [
            "KWS Zyatt",
            "1.567"
           ],
           [
            "Paragon",
            "1.856"
           ],
           [
            "Avalon",
            "1.858"
           ],
           [
            "Istabraq",
            "1.345"
           ],
           [
            "Crusoe",
            "1.464"
           ],
           [
            "KWS Barrel",
            "1.391"
           ],
           [
            "Soissons",
            "1.767"
           ],
           [
            "Claire",
            "1.564"
           ],
           [
            "Xi19",
            "1.559"
           ],
           [
            "Hereward",
            "1.596"
           ],
           [
            "Graham",
            "1.384"
           ],
           [
            "Robigus",
            "1.919"
           ],
           [
            "Maris Widgeon",
            "1.757"
           ],
           [
            "Discarded",
            "N/A"
           ],
           [
            "Discarded",
            "N/A"
           ],
           [
            "Discarded",
            "N/A"
           ],
           [
            "Discarded",
            "N/A"
           ],
           [
            "Graham",
            "2.462"
           ],
           [
            "Crusoe",
            "2.469"
           ],
           [
            "Cadenza",
            "1.954"
           ],
           [
            "Istabraq",
            "1.875"
           ],
           [
            "Maris Widgeon",
            "2.457"
           ],
           [
            "Solstice",
            "1.662"
           ],
           [
            "Siskin",
            "1.989"
           ],
           [
            "Hylux",
            "2.37"
           ],
           [
            "Avalon",
            "1.845"
           ],
           [
            "Robigus",
            "2.44"
           ],
           [
            "Soissons",
            "2.262"
           ],
           [
            "Paragon",
            "2.471"
           ],
           [
            "Riband",
            "2.039"
           ],
           [
            "Malacca",
            "2.086"
           ],
           [
            "Mercia",
            "2.109"
           ],
           [
            "Hereward",
            "2.332"
           ],
           [
            "KWS Zyatt",
            "2.071"
           ],
           [
            "Xi19",
            "2.113"
           ],
           [
            "KWS Barrel",
            "1.865"
           ],
           [
            "Claire",
            "2.24"
           ],
           [
            "Discarded",
            "N/A"
           ],
           [
            "Discarded",
            "N/A"
           ]
          ],
          [
           [
            "Discarded",
            "N/A"
           ],
           [
            "Discarded",
            "N/A"
           ],
           [
            "Hylux",
            "2.139"
           ],
           [
            "KWS Barrel",
            "2.102"
           ],
           [
            "Crusoe",
            "2.404"
           ],
           [
            "Graham",
            "2.133"
           ],
           [
            "Paragon",
            "2.532"
           ],
           [
            "KWS Zyatt",
            "2.349"
           ],
           [
            "Solstice",
            "2.485"
           ],
           [
            "Malacca",
            "2.45"
           ],
           [
            "Cadenza",
            "2.475"
           ],
           [
            "Maris Widgeon",
            "2.706"
           ],
           [
            "Xi19",
            "2.444"
           ],
           [
            "Riband",
            "2.296"
           ],
           [
            "Mercia",
            "2.403"
           ],
           [
            "Hereward",
            "2.565"
           ],
           [
            "Robigus",
            "2.25"
           ],
           [
            "Istabraq",
            "2.132"
           ],
           [
            "Soissons",
            "2.434"
           ],
           [
            "Siskin",
            "2.256"
           ],
           [
            "Claire",
            "2.245"
           ],
           [
            "Avalon",
            "2.442"
           ],
           [
            "Discarded",
            "N/A"
           ],
           [
            "Discarded",
            "N/A"
           ],
           [
            "Discarded",
            "N/A"
           ],
           [
            "Discarded",
            "N/A"
           ],
           [
            "Paragon",
            "2.858"
           ],
           [
            "Soissons",
            "2.226"
           ],
           [
            "KWS Zyatt",
            "2.381"
           ],
           [
            "Maris Widgeon",
            "2.269"
           ],
           [
            "Hylux",
            "2.753"
           ],
           [
            "Crusoe",
            "2.266"
           ],
           [
            "Cadenza",
            "2.528"
           ],
           [
            "Riband",
            "2.297"
           ],
           [
            "Solstice",
            "2.586"
           ],
           [
            "Graham",
            "2.093"
           ],
           [
            "Claire",
            "2.57"
           ],
           [
            "Malacca",
            "2.402"
           ],
           [
            "Hereward",
            "2.54"
           ],
           [
            "Mercia",
            "2.419"
           ],
           [
            "Istabraq",
            "2.072"
           ],
           [
            "Robigus",
            "2.494"
           ],
           [
            "KWS Barrel",
            "2.87"
           ],
           [
            "Avalon",
            "N/A"
           ],
           [
            "Xi19",
            "N/A"
           ],
           [
            "Siskin",
            "N/A"
           ],
           [
            "Discarded",
            "N/A"
           ],
           [
            "Discarded",
            "N/A"
           ],
           [
            "Discarded",
            "N/A"
           ],
           [
            "Discarded",
            "N/A"
           ],
           [
            "Mercia",
            "2.409"
           ],
           [
            "Siskin",
            "2.315"
           ],
           [
            "Xi19",
            "2.241"
           ],
           [
            "Riband",
            "2.426"
           ],
           [
            "Hereward",
            "2.489"
           ],
           [
            "Claire",
            "2.568"
           ],
           [
            "KWS Barrel",
            "2.196"
           ],
           [
            "Robigus",
            "2.494"
           ],
           [
            "Soissons",
            "2.225"
           ],
           [
            "Malacca",
            "2.436"
           ],
           [
            "Cadenza",
            "2.535"
           ],
           [
            "Istabraq",
            "1.968"
           ],
           [
            "Graham",
            "2.061"
           ],
           [
            "Maris Widgeon",
            "2.763"
           ],
           [
            "Hylux",
            "2.321"
           ],
           [
            "Paragon",
            "2.987"
           ],
           [
            "Avalon",
            "2.889"
           ],
           [
            "Crusoe",
            "2.113"
           ],
           [
            "Solstice",
            "2.489"
           ],
           [
            "KWS Zyatt",
            "2.046"
           ],
           [
            "Discarded",
            "N/A"
           ],
           [
            "Discarded",
            "N/A"
           ]
          ]
         ],
         "hovertemplate": "Accession: %{customdata[0]}<br>Raw value: %{customdata[1]}<br> (column: %{x}, row:%{y})<extra></extra>",
         "name": "0",
         "type": "heatmap",
         "xaxis": "x",
         "yaxis": "y",
         "z": [
          [
           null,
           null,
           1.89,
           2.31,
           2.2,
           2.6,
           2.18,
           2.46,
           2.32,
           2.28,
           2.28,
           2.54,
           2.01,
           2.03,
           2.46,
           2.26,
           2.77,
           2.05,
           1.9,
           2.21,
           2.76,
           2.78,
           null,
           null,
           null,
           null,
           1.77,
           1.88,
           2.21,
           1.88,
           2.13,
           1.84,
           2.09,
           2.4,
           2.39,
           1.95,
           2.03,
           2.01,
           1.94,
           1.97,
           1.83,
           2.19,
           1.98,
           1.79,
           2,
           1.82,
           null,
           null,
           null,
           null,
           1.62,
           1.42,
           1.41,
           1.36,
           1.35,
           1.51,
           1.62,
           1.53,
           1.34,
           1.28,
           1.33,
           1.32,
           1.46,
           1.38,
           1.58,
           1.48,
           1.46,
           1.31,
           1.56,
           1.33,
           null,
           null
          ],
          [
           null,
           null,
           2.15,
           1.82,
           1.77,
           1.9,
           1.98,
           2.34,
           2.35,
           2.36,
           1.79,
           2.17,
           2,
           1.89,
           2.43,
           2.36,
           1.98,
           1.97,
           2.46,
           2.05,
           2.02,
           2.08,
           null,
           null,
           null,
           null,
           2.25,
           2.28,
           2.19,
           2.18,
           2.22,
           2.42,
           2.39,
           2.57,
           2.51,
           2.62,
           2.32,
           2.45,
           2.42,
           2.16,
           2.68,
           2.19,
           2.38,
           2.55,
           2.55,
           2.38,
           null,
           null,
           null,
           null,
           2.23,
           2.16,
           2.06,
           2.44,
           2.44,
           2.34,
           2.43,
           2.25,
           2.41,
           2.26,
           2.5,
           2.27,
           2.38,
           2.54,
           2.5,
           2.55,
           2.71,
           2.35,
           2.37,
           2.46,
           null,
           null
          ],
          [
           null,
           null,
           1.4,
           1.49,
           1.7,
           1.65,
           1.53,
           1.33,
           1.55,
           1.61,
           1.52,
           1.35,
           1.62,
           1.63,
           1.29,
           1.46,
           1.42,
           1.72,
           1.49,
           1.6,
           1.4,
           1.42,
           null,
           null,
           null,
           null,
           1.9,
           2.35,
           2.38,
           2.1,
           2.17,
           1.78,
           1.7,
           1.87,
           2.24,
           1.8,
           2.14,
           2.49,
           2.33,
           2.53,
           1.9,
           2.01,
           1.93,
           2.05,
           1.87,
           1.96,
           null,
           null,
           null,
           null,
           1.73,
           2.1,
           2.15,
           2.17,
           1.88,
           1.91,
           1.91,
           1.77,
           1.89,
           2.02,
           1.9,
           2.27,
           2.1,
           1.87,
           1.9,
           2.05,
           2.03,
           2.29,
           2.12,
           1.8,
           null,
           null
          ],
          [
           null,
           null,
           2,
           2.22,
           2.06,
           2.17,
           2,
           1.88,
           2.13,
           2.07,
           1.92,
           1.81,
           1.87,
           1.95,
           2.2,
           1.8,
           1.88,
           1.95,
           2.09,
           2.33,
           1.67,
           1.62,
           null,
           null,
           null,
           null,
           1.59,
           1.66,
           1.3,
           1.47,
           1.41,
           1.41,
           1.66,
           1.44,
           1.59,
           1.57,
           1.33,
           1.42,
           1.6,
           1.37,
           1.52,
           1.44,
           1.354,
           1.477,
           1.623,
           1.521,
           null,
           null,
           null,
           null,
           2.046,
           1.523,
           1.458,
           1.69,
           1.315,
           1.767,
           1.731,
           1.592,
           1.275,
           1.465,
           1.542,
           1.848,
           1.552,
           1.57,
           1.754,
           1.515,
           1.528,
           1.99,
           1.768,
           1.359,
           null,
           null
          ],
          [
           null,
           null,
           1.668,
           1.869,
           1.877,
           1.62,
           1.66,
           1.634,
           1.886,
           1.394,
           1.455,
           1.529,
           1.96,
           2.148,
           1.93,
           1.493,
           2.058,
           2.048,
           2.224,
           1.701,
           1.848,
           1.598,
           null,
           null,
           null,
           null,
           1.759,
           1.586,
           1.461,
           1.419,
           1.806,
           1.569,
           1.547,
           1.567,
           1.856,
           1.858,
           1.345,
           1.464,
           1.391,
           1.767,
           1.564,
           1.559,
           1.596,
           1.384,
           1.919,
           1.757,
           null,
           null,
           null,
           null,
           2.462,
           2.469,
           1.954,
           1.875,
           2.457,
           1.662,
           1.989,
           2.37,
           1.845,
           2.44,
           2.262,
           2.471,
           2.039,
           2.086,
           2.109,
           2.332,
           2.071,
           2.113,
           1.865,
           2.24,
           null,
           null
          ],
          [
           null,
           null,
           2.139,
           2.102,
           2.404,
           2.133,
           2.532,
           2.349,
           2.485,
           2.45,
           2.475,
           2.706,
           2.444,
           2.296,
           2.403,
           2.565,
           2.25,
           2.132,
           2.434,
           2.256,
           2.245,
           2.442,
           null,
           null,
           null,
           null,
           2.858,
           2.226,
           2.381,
           2.269,
           2.753,
           2.266,
           2.528,
           2.297,
           2.586,
           2.093,
           2.57,
           2.402,
           2.54,
           2.419,
           2.072,
           2.494,
           2.87,
           null,
           null,
           null,
           null,
           null,
           null,
           null,
           2.409,
           2.315,
           2.241,
           2.426,
           2.489,
           2.568,
           2.196,
           2.494,
           2.225,
           2.436,
           2.535,
           1.968,
           2.061,
           2.763,
           2.321,
           2.987,
           2.889,
           2.113,
           2.489,
           2.046,
           null,
           null
          ]
         ]
        }
       ],
       "layout": {
        "coloraxis": {
         "colorbar": {
          "title": {
           "text": "Units: %"
          }
         },
         "colorscale": [
          [
           0,
           "rgb(247,252,245)"
          ],
          [
           0.125,
           "rgb(229,245,224)"
          ],
          [
           0.25,
           "rgb(199,233,192)"
          ],
          [
           0.375,
           "rgb(161,217,155)"
          ],
          [
           0.5,
           "rgb(116,196,118)"
          ],
          [
           0.625,
           "rgb(65,171,93)"
          ],
          [
           0.75,
           "rgb(35,139,69)"
          ],
          [
           0.875,
           "rgb(0,109,44)"
          ],
          [
           1,
           "rgb(0,68,27)"
          ]
         ]
        },
        "font": {
         "color": "Black",
         "family": "Courier New, monospace",
         "size": 12
        },
        "height": 600,
        "margin": {
         "t": 60
        },
        "plot_bgcolor": "black",
        "template": {
         "data": {
          "bar": [
           {
            "error_x": {
             "color": "#2a3f5f"
            },
            "error_y": {
             "color": "#2a3f5f"
            },
            "marker": {
             "line": {
              "color": "#E5ECF6",
              "width": 0.5
             },
             "pattern": {
              "fillmode": "overlay",
              "size": 10,
              "solidity": 0.2
             }
            },
            "type": "bar"
           }
          ],
          "barpolar": [
           {
            "marker": {
             "line": {
              "color": "#E5ECF6",
              "width": 0.5
             },
             "pattern": {
              "fillmode": "overlay",
              "size": 10,
              "solidity": 0.2
             }
            },
            "type": "barpolar"
           }
          ],
          "carpet": [
           {
            "aaxis": {
             "endlinecolor": "#2a3f5f",
             "gridcolor": "white",
             "linecolor": "white",
             "minorgridcolor": "white",
             "startlinecolor": "#2a3f5f"
            },
            "baxis": {
             "endlinecolor": "#2a3f5f",
             "gridcolor": "white",
             "linecolor": "white",
             "minorgridcolor": "white",
             "startlinecolor": "#2a3f5f"
            },
            "type": "carpet"
           }
          ],
          "choropleth": [
           {
            "colorbar": {
             "outlinewidth": 0,
             "ticks": ""
            },
            "type": "choropleth"
           }
          ],
          "contour": [
           {
            "colorbar": {
             "outlinewidth": 0,
             "ticks": ""
            },
            "colorscale": [
             [
              0,
              "#0d0887"
             ],
             [
              0.1111111111111111,
              "#46039f"
             ],
             [
              0.2222222222222222,
              "#7201a8"
             ],
             [
              0.3333333333333333,
              "#9c179e"
             ],
             [
              0.4444444444444444,
              "#bd3786"
             ],
             [
              0.5555555555555556,
              "#d8576b"
             ],
             [
              0.6666666666666666,
              "#ed7953"
             ],
             [
              0.7777777777777778,
              "#fb9f3a"
             ],
             [
              0.8888888888888888,
              "#fdca26"
             ],
             [
              1,
              "#f0f921"
             ]
            ],
            "type": "contour"
           }
          ],
          "contourcarpet": [
           {
            "colorbar": {
             "outlinewidth": 0,
             "ticks": ""
            },
            "type": "contourcarpet"
           }
          ],
          "heatmap": [
           {
            "colorbar": {
             "outlinewidth": 0,
             "ticks": ""
            },
            "colorscale": [
             [
              0,
              "#0d0887"
             ],
             [
              0.1111111111111111,
              "#46039f"
             ],
             [
              0.2222222222222222,
              "#7201a8"
             ],
             [
              0.3333333333333333,
              "#9c179e"
             ],
             [
              0.4444444444444444,
              "#bd3786"
             ],
             [
              0.5555555555555556,
              "#d8576b"
             ],
             [
              0.6666666666666666,
              "#ed7953"
             ],
             [
              0.7777777777777778,
              "#fb9f3a"
             ],
             [
              0.8888888888888888,
              "#fdca26"
             ],
             [
              1,
              "#f0f921"
             ]
            ],
            "type": "heatmap"
           }
          ],
          "heatmapgl": [
           {
            "colorbar": {
             "outlinewidth": 0,
             "ticks": ""
            },
            "colorscale": [
             [
              0,
              "#0d0887"
             ],
             [
              0.1111111111111111,
              "#46039f"
             ],
             [
              0.2222222222222222,
              "#7201a8"
             ],
             [
              0.3333333333333333,
              "#9c179e"
             ],
             [
              0.4444444444444444,
              "#bd3786"
             ],
             [
              0.5555555555555556,
              "#d8576b"
             ],
             [
              0.6666666666666666,
              "#ed7953"
             ],
             [
              0.7777777777777778,
              "#fb9f3a"
             ],
             [
              0.8888888888888888,
              "#fdca26"
             ],
             [
              1,
              "#f0f921"
             ]
            ],
            "type": "heatmapgl"
           }
          ],
          "histogram": [
           {
            "marker": {
             "pattern": {
              "fillmode": "overlay",
              "size": 10,
              "solidity": 0.2
             }
            },
            "type": "histogram"
           }
          ],
          "histogram2d": [
           {
            "colorbar": {
             "outlinewidth": 0,
             "ticks": ""
            },
            "colorscale": [
             [
              0,
              "#0d0887"
             ],
             [
              0.1111111111111111,
              "#46039f"
             ],
             [
              0.2222222222222222,
              "#7201a8"
             ],
             [
              0.3333333333333333,
              "#9c179e"
             ],
             [
              0.4444444444444444,
              "#bd3786"
             ],
             [
              0.5555555555555556,
              "#d8576b"
             ],
             [
              0.6666666666666666,
              "#ed7953"
             ],
             [
              0.7777777777777778,
              "#fb9f3a"
             ],
             [
              0.8888888888888888,
              "#fdca26"
             ],
             [
              1,
              "#f0f921"
             ]
            ],
            "type": "histogram2d"
           }
          ],
          "histogram2dcontour": [
           {
            "colorbar": {
             "outlinewidth": 0,
             "ticks": ""
            },
            "colorscale": [
             [
              0,
              "#0d0887"
             ],
             [
              0.1111111111111111,
              "#46039f"
             ],
             [
              0.2222222222222222,
              "#7201a8"
             ],
             [
              0.3333333333333333,
              "#9c179e"
             ],
             [
              0.4444444444444444,
              "#bd3786"
             ],
             [
              0.5555555555555556,
              "#d8576b"
             ],
             [
              0.6666666666666666,
              "#ed7953"
             ],
             [
              0.7777777777777778,
              "#fb9f3a"
             ],
             [
              0.8888888888888888,
              "#fdca26"
             ],
             [
              1,
              "#f0f921"
             ]
            ],
            "type": "histogram2dcontour"
           }
          ],
          "mesh3d": [
           {
            "colorbar": {
             "outlinewidth": 0,
             "ticks": ""
            },
            "type": "mesh3d"
           }
          ],
          "parcoords": [
           {
            "line": {
             "colorbar": {
              "outlinewidth": 0,
              "ticks": ""
             }
            },
            "type": "parcoords"
           }
          ],
          "pie": [
           {
            "automargin": true,
            "type": "pie"
           }
          ],
          "scatter": [
           {
            "fillpattern": {
             "fillmode": "overlay",
             "size": 10,
             "solidity": 0.2
            },
            "type": "scatter"
           }
          ],
          "scatter3d": [
           {
            "line": {
             "colorbar": {
              "outlinewidth": 0,
              "ticks": ""
             }
            },
            "marker": {
             "colorbar": {
              "outlinewidth": 0,
              "ticks": ""
             }
            },
            "type": "scatter3d"
           }
          ],
          "scattercarpet": [
           {
            "marker": {
             "colorbar": {
              "outlinewidth": 0,
              "ticks": ""
             }
            },
            "type": "scattercarpet"
           }
          ],
          "scattergeo": [
           {
            "marker": {
             "colorbar": {
              "outlinewidth": 0,
              "ticks": ""
             }
            },
            "type": "scattergeo"
           }
          ],
          "scattergl": [
           {
            "marker": {
             "colorbar": {
              "outlinewidth": 0,
              "ticks": ""
             }
            },
            "type": "scattergl"
           }
          ],
          "scattermapbox": [
           {
            "marker": {
             "colorbar": {
              "outlinewidth": 0,
              "ticks": ""
             }
            },
            "type": "scattermapbox"
           }
          ],
          "scatterpolar": [
           {
            "marker": {
             "colorbar": {
              "outlinewidth": 0,
              "ticks": ""
             }
            },
            "type": "scatterpolar"
           }
          ],
          "scatterpolargl": [
           {
            "marker": {
             "colorbar": {
              "outlinewidth": 0,
              "ticks": ""
             }
            },
            "type": "scatterpolargl"
           }
          ],
          "scatterternary": [
           {
            "marker": {
             "colorbar": {
              "outlinewidth": 0,
              "ticks": ""
             }
            },
            "type": "scatterternary"
           }
          ],
          "surface": [
           {
            "colorbar": {
             "outlinewidth": 0,
             "ticks": ""
            },
            "colorscale": [
             [
              0,
              "#0d0887"
             ],
             [
              0.1111111111111111,
              "#46039f"
             ],
             [
              0.2222222222222222,
              "#7201a8"
             ],
             [
              0.3333333333333333,
              "#9c179e"
             ],
             [
              0.4444444444444444,
              "#bd3786"
             ],
             [
              0.5555555555555556,
              "#d8576b"
             ],
             [
              0.6666666666666666,
              "#ed7953"
             ],
             [
              0.7777777777777778,
              "#fb9f3a"
             ],
             [
              0.8888888888888888,
              "#fdca26"
             ],
             [
              1,
              "#f0f921"
             ]
            ],
            "type": "surface"
           }
          ],
          "table": [
           {
            "cells": {
             "fill": {
              "color": "#EBF0F8"
             },
             "line": {
              "color": "white"
             }
            },
            "header": {
             "fill": {
              "color": "#C8D4E3"
             },
             "line": {
              "color": "white"
             }
            },
            "type": "table"
           }
          ]
         },
         "layout": {
          "annotationdefaults": {
           "arrowcolor": "#2a3f5f",
           "arrowhead": 0,
           "arrowwidth": 1
          },
          "autotypenumbers": "strict",
          "coloraxis": {
           "colorbar": {
            "outlinewidth": 0,
            "ticks": ""
           }
          },
          "colorscale": {
           "diverging": [
            [
             0,
             "#8e0152"
            ],
            [
             0.1,
             "#c51b7d"
            ],
            [
             0.2,
             "#de77ae"
            ],
            [
             0.3,
             "#f1b6da"
            ],
            [
             0.4,
             "#fde0ef"
            ],
            [
             0.5,
             "#f7f7f7"
            ],
            [
             0.6,
             "#e6f5d0"
            ],
            [
             0.7,
             "#b8e186"
            ],
            [
             0.8,
             "#7fbc41"
            ],
            [
             0.9,
             "#4d9221"
            ],
            [
             1,
             "#276419"
            ]
           ],
           "sequential": [
            [
             0,
             "#0d0887"
            ],
            [
             0.1111111111111111,
             "#46039f"
            ],
            [
             0.2222222222222222,
             "#7201a8"
            ],
            [
             0.3333333333333333,
             "#9c179e"
            ],
            [
             0.4444444444444444,
             "#bd3786"
            ],
            [
             0.5555555555555556,
             "#d8576b"
            ],
            [
             0.6666666666666666,
             "#ed7953"
            ],
            [
             0.7777777777777778,
             "#fb9f3a"
            ],
            [
             0.8888888888888888,
             "#fdca26"
            ],
            [
             1,
             "#f0f921"
            ]
           ],
           "sequentialminus": [
            [
             0,
             "#0d0887"
            ],
            [
             0.1111111111111111,
             "#46039f"
            ],
            [
             0.2222222222222222,
             "#7201a8"
            ],
            [
             0.3333333333333333,
             "#9c179e"
            ],
            [
             0.4444444444444444,
             "#bd3786"
            ],
            [
             0.5555555555555556,
             "#d8576b"
            ],
            [
             0.6666666666666666,
             "#ed7953"
            ],
            [
             0.7777777777777778,
             "#fb9f3a"
            ],
            [
             0.8888888888888888,
             "#fdca26"
            ],
            [
             1,
             "#f0f921"
            ]
           ]
          },
          "colorway": [
           "#636efa",
           "#EF553B",
           "#00cc96",
           "#ab63fa",
           "#FFA15A",
           "#19d3f3",
           "#FF6692",
           "#B6E880",
           "#FF97FF",
           "#FECB52"
          ],
          "font": {
           "color": "#2a3f5f"
          },
          "geo": {
           "bgcolor": "white",
           "lakecolor": "white",
           "landcolor": "#E5ECF6",
           "showlakes": true,
           "showland": true,
           "subunitcolor": "white"
          },
          "hoverlabel": {
           "align": "left"
          },
          "hovermode": "closest",
          "mapbox": {
           "style": "light"
          },
          "paper_bgcolor": "white",
          "plot_bgcolor": "#E5ECF6",
          "polar": {
           "angularaxis": {
            "gridcolor": "white",
            "linecolor": "white",
            "ticks": ""
           },
           "bgcolor": "#E5ECF6",
           "radialaxis": {
            "gridcolor": "white",
            "linecolor": "white",
            "ticks": ""
           }
          },
          "scene": {
           "xaxis": {
            "backgroundcolor": "#E5ECF6",
            "gridcolor": "white",
            "gridwidth": 2,
            "linecolor": "white",
            "showbackground": true,
            "ticks": "",
            "zerolinecolor": "white"
           },
           "yaxis": {
            "backgroundcolor": "#E5ECF6",
            "gridcolor": "white",
            "gridwidth": 2,
            "linecolor": "white",
            "showbackground": true,
            "ticks": "",
            "zerolinecolor": "white"
           },
           "zaxis": {
            "backgroundcolor": "#E5ECF6",
            "gridcolor": "white",
            "gridwidth": 2,
            "linecolor": "white",
            "showbackground": true,
            "ticks": "",
            "zerolinecolor": "white"
           }
          },
          "shapedefaults": {
           "line": {
            "color": "#2a3f5f"
           }
          },
          "ternary": {
           "aaxis": {
            "gridcolor": "white",
            "linecolor": "white",
            "ticks": ""
           },
           "baxis": {
            "gridcolor": "white",
            "linecolor": "white",
            "ticks": ""
           },
           "bgcolor": "#E5ECF6",
           "caxis": {
            "gridcolor": "white",
            "linecolor": "white",
            "ticks": ""
           }
          },
          "title": {
           "x": 0.05
          },
          "xaxis": {
           "automargin": true,
           "gridcolor": "white",
           "linecolor": "white",
           "ticks": "",
           "title": {
            "standoff": 15
           },
           "zerolinecolor": "white",
           "zerolinewidth": 2
          },
          "yaxis": {
           "automargin": true,
           "gridcolor": "white",
           "linecolor": "white",
           "ticks": "",
           "title": {
            "standoff": 15
           },
           "zerolinecolor": "white",
           "zerolinewidth": 2
          }
         }
        },
        "title": {
         "text": "Grain Nitrogen concentration",
         "x": 0.5,
         "xanchor": "center",
         "y": 0.98,
         "yanchor": "top"
        },
        "xaxis": {
         "anchor": "y",
         "domain": [
          0,
          1
         ],
         "gridcolor": "Black",
         "gridwidth": 7,
         "showgrid": true,
         "tickmode": "array",
         "ticktext": [
          1,
          2,
          3,
          4,
          5,
          6,
          7,
          8,
          9,
          10,
          11,
          12,
          13,
          14,
          15,
          16,
          17,
          18,
          19,
          20,
          21,
          22,
          23,
          24,
          25,
          26,
          27,
          28,
          29,
          30,
          31,
          32,
          33,
          34,
          35,
          36,
          37,
          38,
          39,
          40,
          41,
          42,
          43,
          44,
          45,
          46,
          47,
          48,
          49,
          50,
          51,
          52,
          53,
          54,
          55,
          56,
          57,
          58,
          59,
          60,
          61,
          62,
          63,
          64,
          65,
          66,
          67,
          68,
          69,
          70,
          71,
          72
         ],
         "tickvals": [
          0,
          1,
          2,
          3,
          4,
          5,
          6,
          7,
          8,
          9,
          10,
          11,
          12,
          13,
          14,
          15,
          16,
          17,
          18,
          19,
          20,
          21,
          22,
          23,
          24,
          25,
          26,
          27,
          28,
          29,
          30,
          31,
          32,
          33,
          34,
          35,
          36,
          37,
          38,
          39,
          40,
          41,
          42,
          43,
          44,
          45,
          46,
          47,
          48,
          49,
          50,
          51,
          52,
          53,
          54,
          55,
          56,
          57,
          58,
          59,
          60,
          61,
          62,
          63,
          64,
          65,
          66,
          67,
          68,
          69,
          70,
          71
         ],
         "title": {
          "text": "columns"
         },
         "zeroline": false
        },
        "yaxis": {
         "anchor": "x",
         "autorange": "reversed",
         "domain": [
          0,
          1
         ],
         "gridcolor": "Black",
         "gridwidth": 7,
         "showgrid": true,
         "tickmode": "array",
         "ticktext": [
          6,
          5,
          4,
          3,
          2,
          1
         ],
         "tickvals": [
          0,
          1,
          2,
          3,
          4,
          5
         ],
         "title": {
          "text": "rows"
         },
         "zeroline": false
        }
       }
      },
      "text/html": [
       "<div>                            <div id=\"1a7ffaa6-bdee-4fff-aeac-f91087eca1e8\" class=\"plotly-graph-div\" style=\"height:600px; width:100%;\"></div>            <script type=\"text/javascript\">                require([\"plotly\"], function(Plotly) {                    window.PLOTLYENV=window.PLOTLYENV || {};                                    if (document.getElementById(\"1a7ffaa6-bdee-4fff-aeac-f91087eca1e8\")) {                    Plotly.newPlot(                        \"1a7ffaa6-bdee-4fff-aeac-f91087eca1e8\",                        [{\"coloraxis\":\"coloraxis\",\"name\":\"0\",\"z\":[[null,null,1.89,2.31,2.2,2.6,2.18,2.46,2.32,2.28,2.28,2.54,2.01,2.03,2.46,2.26,2.77,2.05,1.9,2.21,2.76,2.78,null,null,null,null,1.77,1.88,2.21,1.88,2.13,1.84,2.09,2.4,2.39,1.95,2.03,2.01,1.94,1.97,1.83,2.19,1.98,1.79,2.0,1.82,null,null,null,null,1.62,1.42,1.41,1.36,1.35,1.51,1.62,1.53,1.34,1.28,1.33,1.32,1.46,1.38,1.58,1.48,1.46,1.31,1.56,1.33,null,null],[null,null,2.15,1.82,1.77,1.9,1.98,2.34,2.35,2.36,1.79,2.17,2.0,1.89,2.43,2.36,1.98,1.97,2.46,2.05,2.02,2.08,null,null,null,null,2.25,2.28,2.19,2.18,2.22,2.42,2.39,2.57,2.51,2.62,2.32,2.45,2.42,2.16,2.68,2.19,2.38,2.55,2.55,2.38,null,null,null,null,2.23,2.16,2.06,2.44,2.44,2.34,2.43,2.25,2.41,2.26,2.5,2.27,2.38,2.54,2.5,2.55,2.71,2.35,2.37,2.46,null,null],[null,null,1.4,1.49,1.7,1.65,1.53,1.33,1.55,1.61,1.52,1.35,1.62,1.63,1.29,1.46,1.42,1.72,1.49,1.6,1.4,1.42,null,null,null,null,1.9,2.35,2.38,2.1,2.17,1.78,1.7,1.87,2.24,1.8,2.14,2.49,2.33,2.53,1.9,2.01,1.93,2.05,1.87,1.96,null,null,null,null,1.73,2.1,2.15,2.17,1.88,1.91,1.91,1.77,1.89,2.02,1.9,2.27,2.1,1.87,1.9,2.05,2.03,2.29,2.12,1.8,null,null],[null,null,2.0,2.22,2.06,2.17,2.0,1.88,2.13,2.07,1.92,1.81,1.87,1.95,2.2,1.8,1.88,1.95,2.09,2.33,1.67,1.62,null,null,null,null,1.59,1.66,1.3,1.47,1.41,1.41,1.66,1.44,1.59,1.57,1.33,1.42,1.6,1.37,1.52,1.44,1.354,1.477,1.623,1.521,null,null,null,null,2.046,1.523,1.458,1.69,1.315,1.767,1.731,1.592,1.275,1.465,1.542,1.848,1.552,1.57,1.754,1.515,1.528,1.99,1.768,1.359,null,null],[null,null,1.668,1.869,1.877,1.62,1.66,1.634,1.886,1.394,1.455,1.529,1.96,2.148,1.93,1.493,2.058,2.048,2.224,1.701,1.848,1.598,null,null,null,null,1.759,1.586,1.461,1.419,1.806,1.569,1.547,1.567,1.856,1.858,1.345,1.464,1.391,1.767,1.564,1.559,1.596,1.384,1.919,1.757,null,null,null,null,2.462,2.469,1.954,1.875,2.457,1.662,1.989,2.37,1.845,2.44,2.262,2.471,2.039,2.086,2.109,2.332,2.071,2.113,1.865,2.24,null,null],[null,null,2.139,2.102,2.404,2.133,2.532,2.349,2.485,2.45,2.475,2.706,2.444,2.296,2.403,2.565,2.25,2.132,2.434,2.256,2.245,2.442,null,null,null,null,2.858,2.226,2.381,2.269,2.753,2.266,2.528,2.297,2.586,2.093,2.57,2.402,2.54,2.419,2.072,2.494,2.87,null,null,null,null,null,null,null,2.409,2.315,2.241,2.426,2.489,2.568,2.196,2.494,2.225,2.436,2.535,1.968,2.061,2.763,2.321,2.987,2.889,2.113,2.489,2.046,null,null]],\"type\":\"heatmap\",\"xaxis\":\"x\",\"yaxis\":\"y\",\"hovertemplate\":\"Accession: %{customdata[0]}<br>Raw value: %{customdata[1]}<br> (column: %{x}, row:%{y})<extra></extra>\",\"customdata\":[[[\"Discarded\",\"N/A\"],[\"Discarded\",\"N/A\"],[\"KWS Zyatt\",\"1.89\"],[\"Robigus\",\"2.31\"],[\"Mercia\",\"2.2\"],[\"Solstice\",\"2.6\"],[\"Crusoe\",\"2.18\"],[\"Hereward\",\"2.46\"],[\"Malacca\",\"2.32\"],[\"Soissons\",\"2.28\"],[\"Riband\",\"2.28\"],[\"Cadenza\",\"2.54\"],[\"Graham\",\"2.01\"],[\"KWS Barrel\",\"2.03\"],[\"Claire\",\"2.46\"],[\"Xi19\",\"2.26\"],[\"Avalon\",\"2.77\"],[\"Siskin\",\"2.05\"],[\"Istabraq\",\"1.9\"],[\"Hylux\",\"2.21\"],[\"Maris Widgeon\",\"2.76\"],[\"Paragon\",\"2.78\"],[\"Discarded\",\"N/A\"],[\"Discarded\",\"N/A\"],[\"Discarded\",\"N/A\"],[\"Discarded\",\"N/A\"],[\"Siskin\",\"1.77\"],[\"Riband\",\"1.88\"],[\"Paragon\",\"2.21\"],[\"Xi19\",\"1.88\"],[\"Avalon\",\"2.13\"],[\"Hylux\",\"1.84\"],[\"Graham\",\"2.09\"],[\"Solstice\",\"2.4\"],[\"Maris Widgeon\",\"2.39\"],[\"Claire\",\"1.95\"],[\"Hereward\",\"2.03\"],[\"Cadenza\",\"2.01\"],[\"Crusoe\",\"1.94\"],[\"KWS Zyatt\",\"1.97\"],[\"KWS Barrel\",\"1.83\"],[\"Soissons\",\"2.19\"],[\"Malacca\",\"1.98\"],[\"Istabraq\",\"1.79\"],[\"Mercia\",\"2\"],[\"Robigus\",\"1.82\"],[\"Discarded\",\"N/A\"],[\"Discarded\",\"N/A\"],[\"Discarded\",\"N/A\"],[\"Discarded\",\"N/A\"],[\"Maris Widgeon\",\"1.62\"],[\"KWS Zyatt\",\"1.42\"],[\"Solstice\",\"1.41\"],[\"Robigus\",\"1.36\"],[\"Graham\",\"1.35\"],[\"Cadenza\",\"1.51\"],[\"Avalon\",\"1.62\"],[\"Paragon\",\"1.53\"],[\"Siskin\",\"1.34\"],[\"Istabraq\",\"1.28\"],[\"KWS Barrel\",\"1.33\"],[\"Hylux\",\"1.32\"],[\"Malacca\",\"1.46\"],[\"Riband\",\"1.38\"],[\"Hereward\",\"1.58\"],[\"Mercia\",\"1.48\"],[\"Crusoe\",\"1.46\"],[\"Claire\",\"1.31\"],[\"Soissons\",\"1.56\"],[\"Xi19\",\"1.33\"],[\"Discarded\",\"N/A\"],[\"Discarded\",\"N/A\"]],[[\"Discarded\",\"N/A\"],[\"Discarded\",\"N/A\"],[\"Claire\",\"2.15\"],[\"Hylux\",\"1.82\"],[\"Graham\",\"1.77\"],[\"KWS Barrel\",\"1.9\"],[\"Xi19\",\"1.98\"],[\"Maris Widgeon\",\"2.34\"],[\"Robigus\",\"2.35\"],[\"Avalon\",\"2.36\"],[\"Istabraq\",\"1.79\"],[\"Soissons\",\"2.17\"],[\"Riband\",\"2\"],[\"Siskin\",\"1.89\"],[\"Solstice\",\"2.43\"],[\"Cadenza\",\"2.36\"],[\"KWS Zyatt\",\"1.98\"],[\"Crusoe\",\"1.97\"],[\"Paragon\",\"2.46\"],[\"Mercia\",\"2.05\"],[\"Malacca\",\"2.02\"],[\"Hereward\",\"2.08\"],[\"Discarded\",\"N/A\"],[\"Discarded\",\"N/A\"],[\"Discarded\",\"N/A\"],[\"Discarded\",\"N/A\"],[\"Malacca\",\"2.25\"],[\"Claire\",\"2.28\"],[\"KWS Barrel\",\"2.19\"],[\"Hylux\",\"2.18\"],[\"Riband\",\"2.22\"],[\"Soissons\",\"2.42\"],[\"KWS Zyatt\",\"2.39\"],[\"Hereward\",\"2.57\"],[\"Crusoe\",\"2.51\"],[\"Paragon\",\"2.62\"],[\"Siskin\",\"2.32\"],[\"Mercia\",\"2.45\"],[\"Robigus\",\"2.42\"],[\"Istabraq\",\"2.16\"],[\"Maris Widgeon\",\"2.68\"],[\"Graham\",\"2.19\"],[\"Xi19\",\"2.38\"],[\"Solstice\",\"2.55\"],[\"Avalon\",\"2.55\"],[\"Cadenza\",\"2.38\"],[\"Discarded\",\"N/A\"],[\"Discarded\",\"N/A\"],[\"Discarded\",\"N/A\"],[\"Discarded\",\"N/A\"],[\"KWS Barrel\",\"2.23\"],[\"Graham\",\"2.16\"],[\"Istabraq\",\"2.06\"],[\"Crusoe\",\"2.44\"],[\"Soissons\",\"2.44\"],[\"Robigus\",\"2.34\"],[\"Mercia\",\"2.43\"],[\"Claire\",\"2.25\"],[\"Hereward\",\"2.41\"],[\"KWS Zyatt\",\"2.26\"],[\"Paragon\",\"2.5\"],[\"Xi19\",\"2.27\"],[\"Siskin\",\"2.38\"],[\"Avalon\",\"2.54\"],[\"Solstice\",\"2.5\"],[\"Cadenza\",\"2.55\"],[\"Maris Widgeon\",\"2.71\"],[\"Riband\",\"2.35\"],[\"Hylux\",\"2.37\"],[\"Malacca\",\"2.46\"],[\"Discarded\",\"N/A\"],[\"Discarded\",\"N/A\"]],[[\"Discarded\",\"N/A\"],[\"Discarded\",\"N/A\"],[\"Riband\",\"1.4\"],[\"Xi19\",\"1.49\"],[\"Soissons\",\"1.7\"],[\"Paragon\",\"1.65\"],[\"Malacca\",\"1.53\"],[\"KWS Barrel\",\"1.33\"],[\"Crusoe\",\"1.55\"],[\"Mercia\",\"1.61\"],[\"KWS Zyatt\",\"1.52\"],[\"Hylux\",\"1.35\"],[\"Avalon\",\"1.62\"],[\"Hereward\",\"1.63\"],[\"Istabraq\",\"1.29\"],[\"Robigus\",\"1.46\"],[\"Graham\",\"1.42\"],[\"Maris Widgeon\",\"1.72\"],[\"Claire\",\"1.49\"],[\"Cadenza\",\"1.6\"],[\"Siskin\",\"1.4\"],[\"Solstice\",\"1.42\"],[\"Discarded\",\"N/A\"],[\"Discarded\",\"N/A\"],[\"Discarded\",\"N/A\"],[\"Discarded\",\"N/A\"],[\"Xi19\",\"1.9\"],[\"Paragon\",\"2.35\"],[\"Maris Widgeon\",\"2.38\"],[\"Soissons\",\"2.1\"],[\"Claire\",\"2.17\"],[\"Graham\",\"1.78\"],[\"Istabraq\",\"1.7\"],[\"Siskin\",\"1.87\"],[\"Robigus\",\"2.24\"],[\"KWS Barrel\",\"1.8\"],[\"Malacca\",\"2.14\"],[\"Avalon\",\"2.49\"],[\"Cadenza\",\"2.33\"],[\"Solstice\",\"2.53\"],[\"Crusoe\",\"1.9\"],[\"KWS Zyatt\",\"2.01\"],[\"Hylux\",\"1.93\"],[\"Hereward\",\"2.05\"],[\"Riband\",\"1.87\"],[\"Mercia\",\"1.96\"],[\"Discarded\",\"N/A\"],[\"Discarded\",\"N/A\"],[\"Discarded\",\"N/A\"],[\"Discarded\",\"N/A\"],[\"Istabraq\",\"1.73\"],[\"Cadenza\",\"2.1\"],[\"Avalon\",\"2.15\"],[\"Hereward\",\"2.17\"],[\"Robigus\",\"1.88\"],[\"Siskin\",\"1.91\"],[\"Xi19\",\"1.91\"],[\"Graham\",\"1.77\"],[\"Claire\",\"1.89\"],[\"Mercia\",\"2.02\"],[\"KWS Zyatt\",\"1.9\"],[\"Maris Widgeon\",\"2.27\"],[\"Paragon\",\"2.1\"],[\"Hylux\",\"1.87\"],[\"Riband\",\"1.9\"],[\"Malacca\",\"2.05\"],[\"Solstice\",\"2.03\"],[\"Soissons\",\"2.29\"],[\"Crusoe\",\"2.12\"],[\"KWS Barrel\",\"1.8\"],[\"Discarded\",\"N/A\"],[\"Discarded\",\"N/A\"]],[[\"Discarded\",\"N/A\"],[\"Discarded\",\"N/A\"],[\"Cadenza\",\"2\"],[\"Hereward\",\"2.22\"],[\"Malacca\",\"2.06\"],[\"Avalon\",\"2.17\"],[\"Solstice\",\"2\"],[\"Riband\",\"1.88\"],[\"Paragon\",\"2.13\"],[\"Crusoe\",\"2.07\"],[\"Hylux\",\"1.92\"],[\"Siskin\",\"1.81\"],[\"Robigus\",\"1.87\"],[\"KWS Zyatt\",\"1.95\"],[\"Soissons\",\"2.2\"],[\"KWS Barrel\",\"1.8\"],[\"Xi19\",\"1.88\"],[\"Claire\",\"1.95\"],[\"Mercia\",\"2.09\"],[\"Maris Widgeon\",\"2.33\"],[\"Istabraq\",\"1.67\"],[\"Graham\",\"1.62\"],[\"Discarded\",\"N/A\"],[\"Discarded\",\"N/A\"],[\"Discarded\",\"N/A\"],[\"Discarded\",\"N/A\"],[\"Soissons\",\"1.59\"],[\"Maris Widgeon\",\"1.66\"],[\"Robigus\",\"1.3\"],[\"KWS Zyatt\",\"1.47\"],[\"KWS Barrel\",\"1.41\"],[\"Istabraq\",\"1.41\"],[\"Hereward\",\"1.66\"],[\"Xi19\",\"1.44\"],[\"Mercia\",\"1.59\"],[\"Crusoe\",\"1.57\"],[\"Hylux\",\"1.33\"],[\"Claire\",\"1.42\"],[\"Avalon\",\"1.6\"],[\"Siskin\",\"1.37\"],[\"Cadenza\",\"1.52\"],[\"Solstice\",\"1.44\"],[\"Graham\",\"1.354\"],[\"Malacca\",\"1.477\"],[\"Paragon\",\"1.623\"],[\"Riband\",\"1.521\"],[\"Discarded\",\"N/A\"],[\"Discarded\",\"N/A\"],[\"Discarded\",\"N/A\"],[\"Discarded\",\"N/A\"],[\"Avalon\",\"2.046\"],[\"Malacca\",\"1.523\"],[\"Hylux\",\"1.458\"],[\"Claire\",\"1.69\"],[\"Siskin\",\"1.315\"],[\"Paragon\",\"1.767\"],[\"Maris Widgeon\",\"1.731\"],[\"Cadenza\",\"1.592\"],[\"Graham\",\"1.275\"],[\"Xi19\",\"1.465\"],[\"Mercia\",\"1.542\"],[\"Solstice\",\"1.848\"],[\"KWS Zyatt\",\"1.552\"],[\"Crusoe\",\"1.57\"],[\"Soissons\",\"1.754\"],[\"KWS Barrel\",\"1.515\"],[\"Riband\",\"1.528\"],[\"Robigus\",\"1.99\"],[\"Hereward\",\"1.768\"],[\"Istabraq\",\"1.359\"],[\"Discarded\",\"N/A\"],[\"Discarded\",\"N/A\"]],[[\"Discarded\",\"N/A\"],[\"Discarded\",\"N/A\"],[\"Hereward\",\"1.668\"],[\"Avalon\",\"1.869\"],[\"Claire\",\"1.877\"],[\"Malacca\",\"1.62\"],[\"Mercia\",\"1.66\"],[\"Xi19\",\"1.634\"],[\"Soissons\",\"1.886\"],[\"Istabraq\",\"1.394\"],[\"KWS Barrel\",\"1.455\"],[\"Riband\",\"1.529\"],[\"Solstice\",\"1.96\"],[\"Robigus\",\"2.148\"],[\"Maris Widgeon\",\"1.93\"],[\"Graham\",\"1.493\"],[\"Paragon\",\"2.058\"],[\"Hylux\",\"2.048\"],[\"Siskin\",\"2.224\"],[\"KWS Zyatt\",\"1.701\"],[\"Cadenza\",\"1.848\"],[\"Crusoe\",\"1.598\"],[\"Discarded\",\"N/A\"],[\"Discarded\",\"N/A\"],[\"Discarded\",\"N/A\"],[\"Discarded\",\"N/A\"],[\"Solstice\",\"1.759\"],[\"Mercia\",\"1.586\"],[\"Riband\",\"1.461\"],[\"Siskin\",\"1.419\"],[\"Cadenza\",\"1.806\"],[\"Malacca\",\"1.569\"],[\"Hylux\",\"1.547\"],[\"KWS Zyatt\",\"1.567\"],[\"Paragon\",\"1.856\"],[\"Avalon\",\"1.858\"],[\"Istabraq\",\"1.345\"],[\"Crusoe\",\"1.464\"],[\"KWS Barrel\",\"1.391\"],[\"Soissons\",\"1.767\"],[\"Claire\",\"1.564\"],[\"Xi19\",\"1.559\"],[\"Hereward\",\"1.596\"],[\"Graham\",\"1.384\"],[\"Robigus\",\"1.919\"],[\"Maris Widgeon\",\"1.757\"],[\"Discarded\",\"N/A\"],[\"Discarded\",\"N/A\"],[\"Discarded\",\"N/A\"],[\"Discarded\",\"N/A\"],[\"Graham\",\"2.462\"],[\"Crusoe\",\"2.469\"],[\"Cadenza\",\"1.954\"],[\"Istabraq\",\"1.875\"],[\"Maris Widgeon\",\"2.457\"],[\"Solstice\",\"1.662\"],[\"Siskin\",\"1.989\"],[\"Hylux\",\"2.37\"],[\"Avalon\",\"1.845\"],[\"Robigus\",\"2.44\"],[\"Soissons\",\"2.262\"],[\"Paragon\",\"2.471\"],[\"Riband\",\"2.039\"],[\"Malacca\",\"2.086\"],[\"Mercia\",\"2.109\"],[\"Hereward\",\"2.332\"],[\"KWS Zyatt\",\"2.071\"],[\"Xi19\",\"2.113\"],[\"KWS Barrel\",\"1.865\"],[\"Claire\",\"2.24\"],[\"Discarded\",\"N/A\"],[\"Discarded\",\"N/A\"]],[[\"Discarded\",\"N/A\"],[\"Discarded\",\"N/A\"],[\"Hylux\",\"2.139\"],[\"KWS Barrel\",\"2.102\"],[\"Crusoe\",\"2.404\"],[\"Graham\",\"2.133\"],[\"Paragon\",\"2.532\"],[\"KWS Zyatt\",\"2.349\"],[\"Solstice\",\"2.485\"],[\"Malacca\",\"2.45\"],[\"Cadenza\",\"2.475\"],[\"Maris Widgeon\",\"2.706\"],[\"Xi19\",\"2.444\"],[\"Riband\",\"2.296\"],[\"Mercia\",\"2.403\"],[\"Hereward\",\"2.565\"],[\"Robigus\",\"2.25\"],[\"Istabraq\",\"2.132\"],[\"Soissons\",\"2.434\"],[\"Siskin\",\"2.256\"],[\"Claire\",\"2.245\"],[\"Avalon\",\"2.442\"],[\"Discarded\",\"N/A\"],[\"Discarded\",\"N/A\"],[\"Discarded\",\"N/A\"],[\"Discarded\",\"N/A\"],[\"Paragon\",\"2.858\"],[\"Soissons\",\"2.226\"],[\"KWS Zyatt\",\"2.381\"],[\"Maris Widgeon\",\"2.269\"],[\"Hylux\",\"2.753\"],[\"Crusoe\",\"2.266\"],[\"Cadenza\",\"2.528\"],[\"Riband\",\"2.297\"],[\"Solstice\",\"2.586\"],[\"Graham\",\"2.093\"],[\"Claire\",\"2.57\"],[\"Malacca\",\"2.402\"],[\"Hereward\",\"2.54\"],[\"Mercia\",\"2.419\"],[\"Istabraq\",\"2.072\"],[\"Robigus\",\"2.494\"],[\"KWS Barrel\",\"2.87\"],[\"Avalon\",\"N/A\"],[\"Xi19\",\"N/A\"],[\"Siskin\",\"N/A\"],[\"Discarded\",\"N/A\"],[\"Discarded\",\"N/A\"],[\"Discarded\",\"N/A\"],[\"Discarded\",\"N/A\"],[\"Mercia\",\"2.409\"],[\"Siskin\",\"2.315\"],[\"Xi19\",\"2.241\"],[\"Riband\",\"2.426\"],[\"Hereward\",\"2.489\"],[\"Claire\",\"2.568\"],[\"KWS Barrel\",\"2.196\"],[\"Robigus\",\"2.494\"],[\"Soissons\",\"2.225\"],[\"Malacca\",\"2.436\"],[\"Cadenza\",\"2.535\"],[\"Istabraq\",\"1.968\"],[\"Graham\",\"2.061\"],[\"Maris Widgeon\",\"2.763\"],[\"Hylux\",\"2.321\"],[\"Paragon\",\"2.987\"],[\"Avalon\",\"2.889\"],[\"Crusoe\",\"2.113\"],[\"Solstice\",\"2.489\"],[\"KWS Zyatt\",\"2.046\"],[\"Discarded\",\"N/A\"],[\"Discarded\",\"N/A\"]]]}],                        {\"template\":{\"data\":{\"histogram2dcontour\":[{\"type\":\"histogram2dcontour\",\"colorbar\":{\"outlinewidth\":0,\"ticks\":\"\"},\"colorscale\":[[0.0,\"#0d0887\"],[0.1111111111111111,\"#46039f\"],[0.2222222222222222,\"#7201a8\"],[0.3333333333333333,\"#9c179e\"],[0.4444444444444444,\"#bd3786\"],[0.5555555555555556,\"#d8576b\"],[0.6666666666666666,\"#ed7953\"],[0.7777777777777778,\"#fb9f3a\"],[0.8888888888888888,\"#fdca26\"],[1.0,\"#f0f921\"]]}],\"choropleth\":[{\"type\":\"choropleth\",\"colorbar\":{\"outlinewidth\":0,\"ticks\":\"\"}}],\"histogram2d\":[{\"type\":\"histogram2d\",\"colorbar\":{\"outlinewidth\":0,\"ticks\":\"\"},\"colorscale\":[[0.0,\"#0d0887\"],[0.1111111111111111,\"#46039f\"],[0.2222222222222222,\"#7201a8\"],[0.3333333333333333,\"#9c179e\"],[0.4444444444444444,\"#bd3786\"],[0.5555555555555556,\"#d8576b\"],[0.6666666666666666,\"#ed7953\"],[0.7777777777777778,\"#fb9f3a\"],[0.8888888888888888,\"#fdca26\"],[1.0,\"#f0f921\"]]}],\"heatmap\":[{\"type\":\"heatmap\",\"colorbar\":{\"outlinewidth\":0,\"ticks\":\"\"},\"colorscale\":[[0.0,\"#0d0887\"],[0.1111111111111111,\"#46039f\"],[0.2222222222222222,\"#7201a8\"],[0.3333333333333333,\"#9c179e\"],[0.4444444444444444,\"#bd3786\"],[0.5555555555555556,\"#d8576b\"],[0.6666666666666666,\"#ed7953\"],[0.7777777777777778,\"#fb9f3a\"],[0.8888888888888888,\"#fdca26\"],[1.0,\"#f0f921\"]]}],\"heatmapgl\":[{\"type\":\"heatmapgl\",\"colorbar\":{\"outlinewidth\":0,\"ticks\":\"\"},\"colorscale\":[[0.0,\"#0d0887\"],[0.1111111111111111,\"#46039f\"],[0.2222222222222222,\"#7201a8\"],[0.3333333333333333,\"#9c179e\"],[0.4444444444444444,\"#bd3786\"],[0.5555555555555556,\"#d8576b\"],[0.6666666666666666,\"#ed7953\"],[0.7777777777777778,\"#fb9f3a\"],[0.8888888888888888,\"#fdca26\"],[1.0,\"#f0f921\"]]}],\"contourcarpet\":[{\"type\":\"contourcarpet\",\"colorbar\":{\"outlinewidth\":0,\"ticks\":\"\"}}],\"contour\":[{\"type\":\"contour\",\"colorbar\":{\"outlinewidth\":0,\"ticks\":\"\"},\"colorscale\":[[0.0,\"#0d0887\"],[0.1111111111111111,\"#46039f\"],[0.2222222222222222,\"#7201a8\"],[0.3333333333333333,\"#9c179e\"],[0.4444444444444444,\"#bd3786\"],[0.5555555555555556,\"#d8576b\"],[0.6666666666666666,\"#ed7953\"],[0.7777777777777778,\"#fb9f3a\"],[0.8888888888888888,\"#fdca26\"],[1.0,\"#f0f921\"]]}],\"surface\":[{\"type\":\"surface\",\"colorbar\":{\"outlinewidth\":0,\"ticks\":\"\"},\"colorscale\":[[0.0,\"#0d0887\"],[0.1111111111111111,\"#46039f\"],[0.2222222222222222,\"#7201a8\"],[0.3333333333333333,\"#9c179e\"],[0.4444444444444444,\"#bd3786\"],[0.5555555555555556,\"#d8576b\"],[0.6666666666666666,\"#ed7953\"],[0.7777777777777778,\"#fb9f3a\"],[0.8888888888888888,\"#fdca26\"],[1.0,\"#f0f921\"]]}],\"mesh3d\":[{\"type\":\"mesh3d\",\"colorbar\":{\"outlinewidth\":0,\"ticks\":\"\"}}],\"scatter\":[{\"fillpattern\":{\"fillmode\":\"overlay\",\"size\":10,\"solidity\":0.2},\"type\":\"scatter\"}],\"parcoords\":[{\"type\":\"parcoords\",\"line\":{\"colorbar\":{\"outlinewidth\":0,\"ticks\":\"\"}}}],\"scatterpolargl\":[{\"type\":\"scatterpolargl\",\"marker\":{\"colorbar\":{\"outlinewidth\":0,\"ticks\":\"\"}}}],\"bar\":[{\"error_x\":{\"color\":\"#2a3f5f\"},\"error_y\":{\"color\":\"#2a3f5f\"},\"marker\":{\"line\":{\"color\":\"#E5ECF6\",\"width\":0.5},\"pattern\":{\"fillmode\":\"overlay\",\"size\":10,\"solidity\":0.2}},\"type\":\"bar\"}],\"scattergeo\":[{\"type\":\"scattergeo\",\"marker\":{\"colorbar\":{\"outlinewidth\":0,\"ticks\":\"\"}}}],\"scatterpolar\":[{\"type\":\"scatterpolar\",\"marker\":{\"colorbar\":{\"outlinewidth\":0,\"ticks\":\"\"}}}],\"histogram\":[{\"marker\":{\"pattern\":{\"fillmode\":\"overlay\",\"size\":10,\"solidity\":0.2}},\"type\":\"histogram\"}],\"scattergl\":[{\"type\":\"scattergl\",\"marker\":{\"colorbar\":{\"outlinewidth\":0,\"ticks\":\"\"}}}],\"scatter3d\":[{\"type\":\"scatter3d\",\"line\":{\"colorbar\":{\"outlinewidth\":0,\"ticks\":\"\"}},\"marker\":{\"colorbar\":{\"outlinewidth\":0,\"ticks\":\"\"}}}],\"scattermapbox\":[{\"type\":\"scattermapbox\",\"marker\":{\"colorbar\":{\"outlinewidth\":0,\"ticks\":\"\"}}}],\"scatterternary\":[{\"type\":\"scatterternary\",\"marker\":{\"colorbar\":{\"outlinewidth\":0,\"ticks\":\"\"}}}],\"scattercarpet\":[{\"type\":\"scattercarpet\",\"marker\":{\"colorbar\":{\"outlinewidth\":0,\"ticks\":\"\"}}}],\"carpet\":[{\"aaxis\":{\"endlinecolor\":\"#2a3f5f\",\"gridcolor\":\"white\",\"linecolor\":\"white\",\"minorgridcolor\":\"white\",\"startlinecolor\":\"#2a3f5f\"},\"baxis\":{\"endlinecolor\":\"#2a3f5f\",\"gridcolor\":\"white\",\"linecolor\":\"white\",\"minorgridcolor\":\"white\",\"startlinecolor\":\"#2a3f5f\"},\"type\":\"carpet\"}],\"table\":[{\"cells\":{\"fill\":{\"color\":\"#EBF0F8\"},\"line\":{\"color\":\"white\"}},\"header\":{\"fill\":{\"color\":\"#C8D4E3\"},\"line\":{\"color\":\"white\"}},\"type\":\"table\"}],\"barpolar\":[{\"marker\":{\"line\":{\"color\":\"#E5ECF6\",\"width\":0.5},\"pattern\":{\"fillmode\":\"overlay\",\"size\":10,\"solidity\":0.2}},\"type\":\"barpolar\"}],\"pie\":[{\"automargin\":true,\"type\":\"pie\"}]},\"layout\":{\"autotypenumbers\":\"strict\",\"colorway\":[\"#636efa\",\"#EF553B\",\"#00cc96\",\"#ab63fa\",\"#FFA15A\",\"#19d3f3\",\"#FF6692\",\"#B6E880\",\"#FF97FF\",\"#FECB52\"],\"font\":{\"color\":\"#2a3f5f\"},\"hovermode\":\"closest\",\"hoverlabel\":{\"align\":\"left\"},\"paper_bgcolor\":\"white\",\"plot_bgcolor\":\"#E5ECF6\",\"polar\":{\"bgcolor\":\"#E5ECF6\",\"angularaxis\":{\"gridcolor\":\"white\",\"linecolor\":\"white\",\"ticks\":\"\"},\"radialaxis\":{\"gridcolor\":\"white\",\"linecolor\":\"white\",\"ticks\":\"\"}},\"ternary\":{\"bgcolor\":\"#E5ECF6\",\"aaxis\":{\"gridcolor\":\"white\",\"linecolor\":\"white\",\"ticks\":\"\"},\"baxis\":{\"gridcolor\":\"white\",\"linecolor\":\"white\",\"ticks\":\"\"},\"caxis\":{\"gridcolor\":\"white\",\"linecolor\":\"white\",\"ticks\":\"\"}},\"coloraxis\":{\"colorbar\":{\"outlinewidth\":0,\"ticks\":\"\"}},\"colorscale\":{\"sequential\":[[0.0,\"#0d0887\"],[0.1111111111111111,\"#46039f\"],[0.2222222222222222,\"#7201a8\"],[0.3333333333333333,\"#9c179e\"],[0.4444444444444444,\"#bd3786\"],[0.5555555555555556,\"#d8576b\"],[0.6666666666666666,\"#ed7953\"],[0.7777777777777778,\"#fb9f3a\"],[0.8888888888888888,\"#fdca26\"],[1.0,\"#f0f921\"]],\"sequentialminus\":[[0.0,\"#0d0887\"],[0.1111111111111111,\"#46039f\"],[0.2222222222222222,\"#7201a8\"],[0.3333333333333333,\"#9c179e\"],[0.4444444444444444,\"#bd3786\"],[0.5555555555555556,\"#d8576b\"],[0.6666666666666666,\"#ed7953\"],[0.7777777777777778,\"#fb9f3a\"],[0.8888888888888888,\"#fdca26\"],[1.0,\"#f0f921\"]],\"diverging\":[[0,\"#8e0152\"],[0.1,\"#c51b7d\"],[0.2,\"#de77ae\"],[0.3,\"#f1b6da\"],[0.4,\"#fde0ef\"],[0.5,\"#f7f7f7\"],[0.6,\"#e6f5d0\"],[0.7,\"#b8e186\"],[0.8,\"#7fbc41\"],[0.9,\"#4d9221\"],[1,\"#276419\"]]},\"xaxis\":{\"gridcolor\":\"white\",\"linecolor\":\"white\",\"ticks\":\"\",\"title\":{\"standoff\":15},\"zerolinecolor\":\"white\",\"automargin\":true,\"zerolinewidth\":2},\"yaxis\":{\"gridcolor\":\"white\",\"linecolor\":\"white\",\"ticks\":\"\",\"title\":{\"standoff\":15},\"zerolinecolor\":\"white\",\"automargin\":true,\"zerolinewidth\":2},\"scene\":{\"xaxis\":{\"backgroundcolor\":\"#E5ECF6\",\"gridcolor\":\"white\",\"linecolor\":\"white\",\"showbackground\":true,\"ticks\":\"\",\"zerolinecolor\":\"white\",\"gridwidth\":2},\"yaxis\":{\"backgroundcolor\":\"#E5ECF6\",\"gridcolor\":\"white\",\"linecolor\":\"white\",\"showbackground\":true,\"ticks\":\"\",\"zerolinecolor\":\"white\",\"gridwidth\":2},\"zaxis\":{\"backgroundcolor\":\"#E5ECF6\",\"gridcolor\":\"white\",\"linecolor\":\"white\",\"showbackground\":true,\"ticks\":\"\",\"zerolinecolor\":\"white\",\"gridwidth\":2}},\"shapedefaults\":{\"line\":{\"color\":\"#2a3f5f\"}},\"annotationdefaults\":{\"arrowcolor\":\"#2a3f5f\",\"arrowhead\":0,\"arrowwidth\":1},\"geo\":{\"bgcolor\":\"white\",\"landcolor\":\"#E5ECF6\",\"subunitcolor\":\"white\",\"showland\":true,\"showlakes\":true,\"lakecolor\":\"white\"},\"title\":{\"x\":0.05},\"mapbox\":{\"style\":\"light\"}}},\"xaxis\":{\"anchor\":\"y\",\"domain\":[0.0,1.0],\"title\":{\"text\":\"columns\"},\"tickmode\":\"array\",\"tickvals\":[0,1,2,3,4,5,6,7,8,9,10,11,12,13,14,15,16,17,18,19,20,21,22,23,24,25,26,27,28,29,30,31,32,33,34,35,36,37,38,39,40,41,42,43,44,45,46,47,48,49,50,51,52,53,54,55,56,57,58,59,60,61,62,63,64,65,66,67,68,69,70,71],\"ticktext\":[1,2,3,4,5,6,7,8,9,10,11,12,13,14,15,16,17,18,19,20,21,22,23,24,25,26,27,28,29,30,31,32,33,34,35,36,37,38,39,40,41,42,43,44,45,46,47,48,49,50,51,52,53,54,55,56,57,58,59,60,61,62,63,64,65,66,67,68,69,70,71,72],\"showgrid\":true,\"gridwidth\":7,\"gridcolor\":\"Black\",\"zeroline\":false},\"yaxis\":{\"anchor\":\"x\",\"domain\":[0.0,1.0],\"autorange\":\"reversed\",\"title\":{\"text\":\"rows\"},\"tickmode\":\"array\",\"tickvals\":[0,1,2,3,4,5],\"ticktext\":[6,5,4,3,2,1],\"showgrid\":true,\"gridwidth\":7,\"gridcolor\":\"Black\",\"zeroline\":false},\"coloraxis\":{\"colorbar\":{\"title\":{\"text\":\"Units: %\"}},\"colorscale\":[[0.0,\"rgb(247,252,245)\"],[0.125,\"rgb(229,245,224)\"],[0.25,\"rgb(199,233,192)\"],[0.375,\"rgb(161,217,155)\"],[0.5,\"rgb(116,196,118)\"],[0.625,\"rgb(65,171,93)\"],[0.75,\"rgb(35,139,69)\"],[0.875,\"rgb(0,109,44)\"],[1.0,\"rgb(0,68,27)\"]]},\"margin\":{\"t\":60},\"height\":600,\"font\":{\"family\":\"Courier New, monospace\",\"size\":12,\"color\":\"Black\"},\"title\":{\"text\":\"Grain Nitrogen concentration\",\"y\":0.98,\"x\":0.5,\"xanchor\":\"center\",\"yanchor\":\"top\"},\"plot_bgcolor\":\"black\"},                        {\"responsive\": true}                    ).then(function(){\n",
       "                            \n",
       "var gd = document.getElementById('1a7ffaa6-bdee-4fff-aeac-f91087eca1e8');\n",
       "var x = new MutationObserver(function (mutations, observer) {{\n",
       "        var display = window.getComputedStyle(gd).display;\n",
       "        if (!display || display === 'none') {{\n",
       "            console.log([gd, 'removed!']);\n",
       "            Plotly.purge(gd);\n",
       "            observer.disconnect();\n",
       "        }}\n",
       "}});\n",
       "\n",
       "// Listen for the removal of the full notebook cells\n",
       "var notebookContainer = gd.closest('#notebook-container');\n",
       "if (notebookContainer) {{\n",
       "    x.observe(notebookContainer, {childList: true});\n",
       "}}\n",
       "\n",
       "// Listen for the clearing of the current output cell\n",
       "var outputEl = gd.closest('.output');\n",
       "if (outputEl) {{\n",
       "    x.observe(outputEl, {childList: true});\n",
       "}}\n",
       "\n",
       "                        })                };                });            </script>        </div>"
      ]
     },
     "metadata": {},
     "output_type": "display_data"
    },
    {
     "name": "stdout",
     "output_type": "stream",
     "text": [
      "Remove: Anthesis time\n",
      "Remove: Maturity time\n"
     ]
    }
   ],
   "source": [
    "import nbimporter\n",
    "from src.grassroots_requests import get_plot\n",
    "from src.grassroots_plots    import plotly_heatmap\n",
    "json_study   = get_plot(\"603e3e9502700f7faf25dfb4\") # WGIN Diversity Rothamsted Harvest 2019\n",
    "grain_N_concentration = \"GrnNCnc_Com_%\"      # selected observation for visualisation\n",
    "colormap = \"Greens\"    #\"Hot\"\n",
    "#colormap = \"Electric\"  # \"Rainbow\"\n",
    "plotly_heatmap(json_study, colormap, grain_N_concentration)"
   ]
  },
  {
   "cell_type": "markdown",
   "id": "b8605cce",
   "metadata": {
    "slideshow": {
     "slide_type": "slide"
    }
   },
   "source": [
    "## Even more interactive heatmap!\n",
    "\n",
    "[https://grassroots.tools/heatmaps](https://grassroots.tools/heatmaps)\n",
    "\n"
   ]
  },
  {
   "cell_type": "code",
   "execution_count": 6,
   "id": "4b7363b5",
   "metadata": {
    "scrolled": false,
    "slideshow": {
     "slide_type": "skip"
    }
   },
   "outputs": [
    {
     "data": {
      "text/html": [
       "\n",
       "        <iframe\n",
       "            width=\"100%\"\n",
       "            height=\"650\"\n",
       "            src=\"http://127.0.0.1:8052/\"\n",
       "            frameborder=\"0\"\n",
       "            allowfullscreen\n",
       "            \n",
       "        ></iframe>\n",
       "        "
      ],
      "text/plain": [
       "<IPython.lib.display.IFrame at 0x7fda0767ea00>"
      ]
     },
     "metadata": {},
     "output_type": "display_data"
    },
    {
     "name": "stdout",
     "output_type": "stream",
     "text": [
      "Remove: Anthesis time\n",
      "Remove: Maturity time\n",
      "Remove: Anthesis time\n",
      "Remove: Maturity time\n",
      "Remove: Anthesis time\n",
      "Remove: Maturity time\n",
      "Remove: Anthesis time\n",
      "Remove: Maturity time\n",
      "Remove: Anthesis time\n",
      "Remove: Maturity time\n",
      "Remove: Anthesis time\n",
      "Remove: Maturity time\n",
      "Remove: Anthesis time\n",
      "Remove: Maturity time\n",
      "Remove: Anthesis time\n",
      "Remove: Maturity time\n",
      "Remove: Anthesis time\n",
      "Remove: Maturity time\n",
      "Remove: Anthesis time\n",
      "Remove: Maturity time\n",
      "Remove: Anthesis time\n",
      "Remove: Maturity time\n",
      "Remove: Anthesis time\n",
      "Remove: Maturity time\n",
      "Remove: Anthesis time\n",
      "Remove: Maturity time\n",
      "Remove: Anthesis time\n",
      "Remove: Maturity time\n",
      "Remove: Anthesis time\n",
      "Remove: Maturity time\n",
      "Remove: Anthesis time\n",
      "Remove: Maturity time\n",
      "Remove: Anthesis time\n",
      "Remove: Maturity time\n",
      "Remove: Anthesis time\n",
      "Remove: Maturity time\n"
     ]
    }
   ],
   "source": [
    "from jupyter_dash import JupyterDash\n",
    "from dash import Dash, dcc, html, Input, Output\n",
    "import plotly.express as px\n",
    "\n",
    "import dash_bootstrap_components as dbc          \n",
    "from dash.exceptions import PreventUpdate        \n",
    "\n",
    "#################################################\n",
    "import json\n",
    "import nbimporter\n",
    "from src.grass_plots import get_all_fieldtrials     \n",
    "from src.grass_plots import get_plot\n",
    "from src.grass_plots import dict_phenotypes\n",
    "from src.grass_plots import numpy_data\n",
    "from src.grass_plots import treatments\n",
    "from src.grass_plots import plotly_plot\n",
    "import operator                                   \n",
    "import numpy as np                               \n",
    "import requests \n",
    "#################################################\n",
    "\n",
    "\n",
    "all_studies  = get_all_fieldtrials()\n",
    "all_studies = json.loads(all_studies)\n",
    "\n",
    "studiesIDs = []\n",
    "names      = []\n",
    "for i in range(len(all_studies['results'][0]['results'])):\n",
    "        uuid  = all_studies['results'][0]['results'][i]['data']['_id']['$oid']\n",
    "        name = all_studies['results'][0]['results'][i]['data']['so:name']\n",
    "\n",
    "        if 'phenotypes' in all_studies['results'][0]['results'][i]['data']:\n",
    "            studiesIDs.append(uuid)\n",
    "            names.append(name)\n",
    "\n",
    "studiesIDs.remove('5dd8009ade68e75a927a8274')                #  faulty study. remove it from list for now\n",
    "names.remove('1st vs 3rd wheat take-all resistance trial')   #\n",
    "\n",
    "\n",
    "optionsNames = [{'label': names[i], 'value':studiesIDs[i]} for i in range(len(names))]\n",
    "\n",
    "optionsNames.sort(key=operator.itemgetter('label'))         # Sort list of dictionaries by key 'label'\n",
    "\n",
    "           \n",
    "#app = Dash(__name__)\n",
    "app = JupyterDash(__name__)  \n",
    "\n",
    "\n",
    "app.layout = html.Div([\n",
    "\n",
    "      html.Div(children=[\n",
    "      html.Label(['List of studies:'],style={'font-weight': 'bold', \"text-align\": \"left\"}),\n",
    "\n",
    "      dcc.Dropdown(id='DROPDOWN1',\n",
    "          options = optionsNames,\n",
    "          value   = optionsNames[0]['value'],\n",
    "          searchable = True,\n",
    "          style={'width':\"100%\"},\n",
    "          #search_value='',\n",
    "      ),\n",
    "      html.Div(id='STUDY'),\n",
    "      html.Br(),\n",
    "\n",
    "    ]),\n",
    "    \n",
    "    html.Div(children=[\n",
    "        html.Label(['Select phenotype:'],style={'font-weight': 'bold', \"text-align\": \"left\"}),\n",
    "        \n",
    "        dcc.Dropdown( id='DROPDOWN2',\n",
    "              options = [],\n",
    "              #value   = 'SpkPop_CalcGbSamp_m2', \n",
    "              searchable = True,\n",
    "              style={'width':\"100%\"},\n",
    "          )\n",
    "    \n",
    "    ]),\n",
    "\n",
    "])\n",
    "#-------------------------------------------------\n",
    "@app.callback(\n",
    "    Output('STUDY', 'children'),\n",
    "    Input('DROPDOWN1', 'value')\n",
    ")\n",
    "\n",
    "def print_uuid(uuid):\n",
    "\n",
    "    if uuid is None:\n",
    "        raise PreventUpdate\n",
    "\n",
    "    return ('Study uuid: {} '.format(uuid))\n",
    "\n",
    "### **update dropdown 2 (List of phenotypes)** \n",
    "@app.callback(\n",
    "    [Output('DROPDOWN2', 'options'),\n",
    "     Output('DROPDOWN2', 'value') ],\n",
    "     Input( 'DROPDOWN1', 'value') )\n",
    "\n",
    "def update_dropdown_menu(uuid):\n",
    "\n",
    "    if uuid is None:\n",
    "        raise PreventUpdate\n",
    "\n",
    "    single_study = get_plot(uuid)\n",
    "    study_json   = json.loads(single_study)\n",
    "\n",
    "    studies_ids =[]\n",
    "\n",
    "    if 'phenotypes' in study_json['results'][0]['results'][0]['data']:\n",
    "        studies_ids.append(uuid)\n",
    "        #print(\"Study has phenotypes\", studies_ids)\n",
    "\n",
    "\n",
    "    plot_data         = study_json['results'][0]['results'][0]['data']['plots']\n",
    "    phenotypes        = study_json['results'][0]['results'][0]['data']['phenotypes']\n",
    "\n",
    "    dictTraits = dict_phenotypes(phenotypes, plot_data)\n",
    "\n",
    "    phenoKeys   = list(dictTraits.keys())\n",
    "    phenoValues = list(dictTraits.values())\n",
    "\n",
    "    options = [{'label': phenoValues[i], 'value':phenoKeys[i]} for i in range(len(phenoKeys))]\n",
    "\n",
    "    value   = list(dictTraits.keys())[0]\n",
    "    return options, value\n",
    "\n",
    "\n",
    "\n",
    "if __name__ == \"__main__\":\n",
    "    app.run_server(mode='inline', port=8052)\n",
    "    "
   ]
  }
 ],
 "metadata": {
  "celltoolbar": "Slideshow",
  "kernelspec": {
   "display_name": "Python 3 (ipykernel)",
   "language": "python",
   "name": "python3"
  },
  "language_info": {
   "codemirror_mode": {
    "name": "ipython",
    "version": 3
   },
   "file_extension": ".py",
   "mimetype": "text/x-python",
   "name": "python",
   "nbconvert_exporter": "python",
   "pygments_lexer": "ipython3",
   "version": "3.8.10"
  }
 },
 "nbformat": 4,
 "nbformat_minor": 5
}
